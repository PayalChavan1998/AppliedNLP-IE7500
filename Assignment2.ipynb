{
 "cells": [
  {
   "cell_type": "markdown",
   "id": "718dfd73-3315-4652-9eac-29672287da18",
   "metadata": {},
   "source": [
    "## Custom embedding models"
   ]
  },
  {
   "cell_type": "code",
   "execution_count": 1,
   "id": "1a421908-c466-4e1f-8b1a-5946015815e0",
   "metadata": {},
   "outputs": [
    {
     "name": "stdout",
     "output_type": "stream",
     "text": [
      "Requirement already satisfied: demoji in /Users/payalchavan/anaconda3/lib/python3.11/site-packages (1.1.0)\n",
      "Requirement already satisfied: glove-py in /Users/payalchavan/anaconda3/lib/python3.11/site-packages (0.2.3)\n",
      "Requirement already satisfied: pybind11>=2.2 in /Users/payalchavan/anaconda3/lib/python3.11/site-packages (from glove-py) (2.13.6)\n",
      "Requirement already satisfied: setuptools>=0.7.0 in /Users/payalchavan/anaconda3/lib/python3.11/site-packages (from glove-py) (75.1.0)\n",
      "Requirement already satisfied: numpy in /Users/payalchavan/anaconda3/lib/python3.11/site-packages (from glove-py) (1.24.3)\n"
     ]
    }
   ],
   "source": [
    "!pip3 install demoji\n",
    "!pip3 install glove-py\n",
    "# !pip3 install glove-python"
   ]
  },
  {
   "cell_type": "code",
   "execution_count": 2,
   "id": "a7b137de-b02c-4e67-9827-905381d4e944",
   "metadata": {},
   "outputs": [],
   "source": [
    "# Import all necessary libraries\n",
    "import pandas as pd\n",
    "import numpy as np\n",
    "from sklearn.feature_extraction.text import CountVectorizer\n",
    "from gensim.models import Word2Vec, FastText\n",
    "from gensim.utils import simple_preprocess\n",
    "from collections import Counter\n",
    "#from glove import Corpus, Glove\n",
    "import nltk\n",
    "from nltk.corpus import stopwords\n",
    "from nltk.tokenize import word_tokenize\n",
    "from nltk.stem import WordNetLemmatizer\n",
    "import re\n",
    "import matplotlib.pyplot as plt\n",
    "import demoji\n",
    "from sklearn.manifold import TSNE\n",
    "\n",
    "\n",
    "import warnings\n",
    "warnings.filterwarnings(\"ignore\")"
   ]
  },
  {
   "cell_type": "code",
   "execution_count": 3,
   "id": "93d6f29f-9aef-4bc7-8e11-1c864f385a74",
   "metadata": {},
   "outputs": [
    {
     "name": "stderr",
     "output_type": "stream",
     "text": [
      "[nltk_data] Downloading package stopwords to\n",
      "[nltk_data]     /Users/payalchavan/nltk_data...\n",
      "[nltk_data]   Package stopwords is already up-to-date!\n",
      "[nltk_data] Downloading package punkt to\n",
      "[nltk_data]     /Users/payalchavan/nltk_data...\n",
      "[nltk_data]   Package punkt is already up-to-date!\n",
      "[nltk_data] Downloading package wordnet to\n",
      "[nltk_data]     /Users/payalchavan/nltk_data...\n",
      "[nltk_data]   Package wordnet is already up-to-date!\n"
     ]
    }
   ],
   "source": [
    "# Download necessary NLTK data\n",
    "nltk.download('stopwords')\n",
    "nltk.download('punkt')\n",
    "nltk.download('wordnet')\n",
    "demoji.download_codes()"
   ]
  },
  {
   "cell_type": "code",
   "execution_count": 4,
   "id": "3716f3c0-21e7-4f45-bd02-4edf5bfd3483",
   "metadata": {},
   "outputs": [
    {
     "data": {
      "text/html": [
       "<div>\n",
       "<style scoped>\n",
       "    .dataframe tbody tr th:only-of-type {\n",
       "        vertical-align: middle;\n",
       "    }\n",
       "\n",
       "    .dataframe tbody tr th {\n",
       "        vertical-align: top;\n",
       "    }\n",
       "\n",
       "    .dataframe thead th {\n",
       "        text-align: right;\n",
       "    }\n",
       "</style>\n",
       "<table border=\"1\" class=\"dataframe\">\n",
       "  <thead>\n",
       "    <tr style=\"text-align: right;\">\n",
       "      <th></th>\n",
       "      <th>tweet_id</th>\n",
       "      <th>author_id</th>\n",
       "      <th>inbound</th>\n",
       "      <th>created_at</th>\n",
       "      <th>text</th>\n",
       "      <th>response_tweet_id</th>\n",
       "      <th>in_response_to_tweet_id</th>\n",
       "    </tr>\n",
       "  </thead>\n",
       "  <tbody>\n",
       "    <tr>\n",
       "      <th>0</th>\n",
       "      <td>1</td>\n",
       "      <td>sprintcare</td>\n",
       "      <td>False</td>\n",
       "      <td>Tue Oct 31 22:10:47 +0000 2017</td>\n",
       "      <td>@115712 I understand. I would like to assist y...</td>\n",
       "      <td>2</td>\n",
       "      <td>3.0</td>\n",
       "    </tr>\n",
       "    <tr>\n",
       "      <th>1</th>\n",
       "      <td>2</td>\n",
       "      <td>115712</td>\n",
       "      <td>True</td>\n",
       "      <td>Tue Oct 31 22:11:45 +0000 2017</td>\n",
       "      <td>@sprintcare and how do you propose we do that</td>\n",
       "      <td>NaN</td>\n",
       "      <td>1.0</td>\n",
       "    </tr>\n",
       "    <tr>\n",
       "      <th>2</th>\n",
       "      <td>3</td>\n",
       "      <td>115712</td>\n",
       "      <td>True</td>\n",
       "      <td>Tue Oct 31 22:08:27 +0000 2017</td>\n",
       "      <td>@sprintcare I have sent several private messag...</td>\n",
       "      <td>1</td>\n",
       "      <td>4.0</td>\n",
       "    </tr>\n",
       "    <tr>\n",
       "      <th>3</th>\n",
       "      <td>4</td>\n",
       "      <td>sprintcare</td>\n",
       "      <td>False</td>\n",
       "      <td>Tue Oct 31 21:54:49 +0000 2017</td>\n",
       "      <td>@115712 Please send us a Private Message so th...</td>\n",
       "      <td>3</td>\n",
       "      <td>5.0</td>\n",
       "    </tr>\n",
       "    <tr>\n",
       "      <th>4</th>\n",
       "      <td>5</td>\n",
       "      <td>115712</td>\n",
       "      <td>True</td>\n",
       "      <td>Tue Oct 31 21:49:35 +0000 2017</td>\n",
       "      <td>@sprintcare I did.</td>\n",
       "      <td>4</td>\n",
       "      <td>6.0</td>\n",
       "    </tr>\n",
       "    <tr>\n",
       "      <th>...</th>\n",
       "      <td>...</td>\n",
       "      <td>...</td>\n",
       "      <td>...</td>\n",
       "      <td>...</td>\n",
       "      <td>...</td>\n",
       "      <td>...</td>\n",
       "      <td>...</td>\n",
       "    </tr>\n",
       "    <tr>\n",
       "      <th>2811769</th>\n",
       "      <td>2987947</td>\n",
       "      <td>sprintcare</td>\n",
       "      <td>False</td>\n",
       "      <td>Wed Nov 22 08:43:51 +0000 2017</td>\n",
       "      <td>@823869 Hey, we'd be happy to look into this f...</td>\n",
       "      <td>NaN</td>\n",
       "      <td>2987948.0</td>\n",
       "    </tr>\n",
       "    <tr>\n",
       "      <th>2811770</th>\n",
       "      <td>2987948</td>\n",
       "      <td>823869</td>\n",
       "      <td>True</td>\n",
       "      <td>Wed Nov 22 08:35:16 +0000 2017</td>\n",
       "      <td>@115714 wtf!? I’ve been having really shitty s...</td>\n",
       "      <td>2987947</td>\n",
       "      <td>NaN</td>\n",
       "    </tr>\n",
       "    <tr>\n",
       "      <th>2811771</th>\n",
       "      <td>2812240</td>\n",
       "      <td>121673</td>\n",
       "      <td>True</td>\n",
       "      <td>Thu Nov 23 04:13:07 +0000 2017</td>\n",
       "      <td>@143549 @sprintcare You have to go to https://...</td>\n",
       "      <td>NaN</td>\n",
       "      <td>2812239.0</td>\n",
       "    </tr>\n",
       "    <tr>\n",
       "      <th>2811772</th>\n",
       "      <td>2987949</td>\n",
       "      <td>AldiUK</td>\n",
       "      <td>False</td>\n",
       "      <td>Wed Nov 22 08:31:24 +0000 2017</td>\n",
       "      <td>@823870 Sounds delicious, Sarah! 😋 https://t.c...</td>\n",
       "      <td>NaN</td>\n",
       "      <td>2987950.0</td>\n",
       "    </tr>\n",
       "    <tr>\n",
       "      <th>2811773</th>\n",
       "      <td>2987950</td>\n",
       "      <td>823870</td>\n",
       "      <td>True</td>\n",
       "      <td>Tue Nov 21 22:01:04 +0000 2017</td>\n",
       "      <td>@AldiUK  warm sloe gin mince pies with ice cre...</td>\n",
       "      <td>2987951,2987949</td>\n",
       "      <td>NaN</td>\n",
       "    </tr>\n",
       "  </tbody>\n",
       "</table>\n",
       "<p>2811774 rows × 7 columns</p>\n",
       "</div>"
      ],
      "text/plain": [
       "         tweet_id   author_id  inbound                      created_at  \\\n",
       "0               1  sprintcare    False  Tue Oct 31 22:10:47 +0000 2017   \n",
       "1               2      115712     True  Tue Oct 31 22:11:45 +0000 2017   \n",
       "2               3      115712     True  Tue Oct 31 22:08:27 +0000 2017   \n",
       "3               4  sprintcare    False  Tue Oct 31 21:54:49 +0000 2017   \n",
       "4               5      115712     True  Tue Oct 31 21:49:35 +0000 2017   \n",
       "...           ...         ...      ...                             ...   \n",
       "2811769   2987947  sprintcare    False  Wed Nov 22 08:43:51 +0000 2017   \n",
       "2811770   2987948      823869     True  Wed Nov 22 08:35:16 +0000 2017   \n",
       "2811771   2812240      121673     True  Thu Nov 23 04:13:07 +0000 2017   \n",
       "2811772   2987949      AldiUK    False  Wed Nov 22 08:31:24 +0000 2017   \n",
       "2811773   2987950      823870     True  Tue Nov 21 22:01:04 +0000 2017   \n",
       "\n",
       "                                                      text response_tweet_id  \\\n",
       "0        @115712 I understand. I would like to assist y...                 2   \n",
       "1            @sprintcare and how do you propose we do that               NaN   \n",
       "2        @sprintcare I have sent several private messag...                 1   \n",
       "3        @115712 Please send us a Private Message so th...                 3   \n",
       "4                                       @sprintcare I did.                 4   \n",
       "...                                                    ...               ...   \n",
       "2811769  @823869 Hey, we'd be happy to look into this f...               NaN   \n",
       "2811770  @115714 wtf!? I’ve been having really shitty s...           2987947   \n",
       "2811771  @143549 @sprintcare You have to go to https://...               NaN   \n",
       "2811772  @823870 Sounds delicious, Sarah! 😋 https://t.c...               NaN   \n",
       "2811773  @AldiUK  warm sloe gin mince pies with ice cre...   2987951,2987949   \n",
       "\n",
       "         in_response_to_tweet_id  \n",
       "0                            3.0  \n",
       "1                            1.0  \n",
       "2                            4.0  \n",
       "3                            5.0  \n",
       "4                            6.0  \n",
       "...                          ...  \n",
       "2811769                2987948.0  \n",
       "2811770                      NaN  \n",
       "2811771                2812239.0  \n",
       "2811772                2987950.0  \n",
       "2811773                      NaN  \n",
       "\n",
       "[2811774 rows x 7 columns]"
      ]
     },
     "execution_count": 4,
     "metadata": {},
     "output_type": "execute_result"
    }
   ],
   "source": [
    "# Read the CSV file\n",
    "tweets_df = pd.read_csv(r'/Users/payalchavan/Documents/Applied_NLP/archive2/twcs/twcs.csv')\n",
    "tweets_df"
   ]
  },
  {
   "cell_type": "markdown",
   "id": "3b472a26-63ca-4c4c-82e0-71278cecbf7c",
   "metadata": {},
   "source": [
    "### TASK 1: Top 15 Frequent Words (Count Vectorizer)"
   ]
  },
  {
   "cell_type": "code",
   "execution_count": 6,
   "id": "167d2359-9821-490c-990f-9bc08b7eb527",
   "metadata": {},
   "outputs": [],
   "source": [
    "# Function to preprocess text\n",
    "def preprocess_text(text):\n",
    "    # Convert to lowercase\n",
    "    text = text.lower()\n",
    "    # Remove URLs\n",
    "    text = re.sub(r'http\\S+|www\\S+|https\\S+', '', text, flags=re.MULTILINE)\n",
    "    # Remove user @ references and '#' from tweet\n",
    "    text = re.sub(r'\\@\\w+|\\#', '', text)\n",
    "    # Remove emoticons\n",
    "    #text = demoji.replace(text, \"\")\n",
    "    # Remove punctuations and numbers\n",
    "    text = re.sub(r'[^a-zA-Z\\s]', '', text)\n",
    "    # Remove extra whitespace\n",
    "    text = re.sub(r'\\s+', ' ', text).strip()\n",
    "    # Remove stopwords\n",
    "    stop_words = set(stopwords.words('english'))\n",
    "    word_tokens = word_tokenize(text)\n",
    "    filtered_text = [word for word in word_tokens if word not in stop_words]\n",
    "    return ' '.join(filtered_text)\n",
    "    # return text"
   ]
  },
  {
   "cell_type": "code",
   "execution_count": 7,
   "id": "1d2bebcb-aa9d-4807-b1ea-5836928de4ad",
   "metadata": {},
   "outputs": [],
   "source": [
    "# Lemmatization: Convert words to their base or root form.\n",
    "# Initialize lemmatizer\n",
    "lemmatizer = WordNetLemmatizer()\n",
    "\n",
    "# Function to lemmatize text\n",
    "def lemmatize_text(text):\n",
    "    # Ensure the input is a string\n",
    "    if isinstance(text, str):\n",
    "        word_tokens = word_tokenize(text)\n",
    "        lemmatized_text = [lemmatizer.lemmatize(word) for word in word_tokens]\n",
    "        return ' '.join(lemmatized_text)\n",
    "    else:\n",
    "        return \"\""
   ]
  },
  {
   "cell_type": "code",
   "execution_count": 8,
   "id": "4dcd9be4-bdd1-4d96-b2b8-62cea3eea6db",
   "metadata": {},
   "outputs": [],
   "source": [
    "# Apply preprocessing to the text column\n",
    "tweets_df['cleaned_text'] = tweets_df['text'].apply(preprocess_text)"
   ]
  },
  {
   "cell_type": "code",
   "execution_count": 9,
   "id": "349c0f86-8e49-4f37-9b02-f41d98d4d8a9",
   "metadata": {},
   "outputs": [],
   "source": [
    "# Apply lemmatization\n",
    "tweets_df['lemmatized_text'] = tweets_df['cleaned_text'].apply(lemmatize_text)"
   ]
  },
  {
   "cell_type": "code",
   "execution_count": 10,
   "id": "44f3a26c-7a2d-4182-a8a2-29206df757bf",
   "metadata": {},
   "outputs": [
    {
     "data": {
      "text/plain": [
       "0    understand would like assist would need get pr...\n",
       "1                                              propose\n",
       "2    sent several private message one responding usual\n",
       "3    please send u private message assist click mes...\n",
       "4                                                     \n",
       "5    please send u private message gain detail account\n",
       "6                               worst customer service\n",
       "7             saddening hear please shoot u dm look kc\n",
       "8    gon na magically change connectivity whole family\n",
       "9    understand concern wed like please send u dire...\n",
       "Name: lemmatized_text, dtype: object"
      ]
     },
     "execution_count": 10,
     "metadata": {},
     "output_type": "execute_result"
    }
   ],
   "source": [
    "# Take a look at the cleaned lemmatized text\n",
    "tweets_df['lemmatized_text'].head(10)"
   ]
  },
  {
   "cell_type": "markdown",
   "id": "56616b58-d06a-4894-9cfe-6e86d73f5573",
   "metadata": {},
   "source": [
    "The output above demonstrates the preprocessing of text by eliminating stop words and punctuation, and converting it to lowercase. Following this cleaning process, lemmatization is applied, transforming words to their root forms. This simplifies the analysis."
   ]
  },
  {
   "cell_type": "code",
   "execution_count": 12,
   "id": "cb83ad52-a58d-4058-93f6-df60aa5c3113",
   "metadata": {},
   "outputs": [],
   "source": [
    "# Initialize CountVectorizer\n",
    "vectorizer = CountVectorizer()"
   ]
  },
  {
   "cell_type": "code",
   "execution_count": 13,
   "id": "95c6e0bc-3123-4d7d-afe5-dc17c28d66bf",
   "metadata": {},
   "outputs": [],
   "source": [
    "# Fit and transform the cleaned text\n",
    "word_count_matrix = vectorizer.fit_transform(tweets_df['lemmatized_text'])"
   ]
  },
  {
   "cell_type": "code",
   "execution_count": 14,
   "id": "8daa025c-9dfe-46a2-82c7-57f6828df6f0",
   "metadata": {},
   "outputs": [],
   "source": [
    "# Get the words and their frequencies\n",
    "word_freq = np.array(word_count_matrix.sum(axis=0)).flatten()\n",
    "\n",
    "# Create a DataFrame for words and their counts\n",
    "words = vectorizer.get_feature_names_out()\n",
    "word_count_df = pd.DataFrame({'Word': words, 'Count': word_freq})"
   ]
  },
  {
   "cell_type": "code",
   "execution_count": 15,
   "id": "20ed46b4-f5a0-4132-b13b-989079c3b027",
   "metadata": {},
   "outputs": [
    {
     "data": {
      "text/html": [
       "<div>\n",
       "<style scoped>\n",
       "    .dataframe tbody tr th:only-of-type {\n",
       "        vertical-align: middle;\n",
       "    }\n",
       "\n",
       "    .dataframe tbody tr th {\n",
       "        vertical-align: top;\n",
       "    }\n",
       "\n",
       "    .dataframe thead th {\n",
       "        text-align: right;\n",
       "    }\n",
       "</style>\n",
       "<table border=\"1\" class=\"dataframe\">\n",
       "  <thead>\n",
       "    <tr style=\"text-align: right;\">\n",
       "      <th></th>\n",
       "      <th>Word</th>\n",
       "      <th>Count</th>\n",
       "    </tr>\n",
       "  </thead>\n",
       "  <tbody>\n",
       "    <tr>\n",
       "      <th>239255</th>\n",
       "      <td>please</td>\n",
       "      <td>403133</td>\n",
       "    </tr>\n",
       "    <tr>\n",
       "      <th>88340</th>\n",
       "      <td>dm</td>\n",
       "      <td>341657</td>\n",
       "    </tr>\n",
       "    <tr>\n",
       "      <th>137481</th>\n",
       "      <td>help</td>\n",
       "      <td>282006</td>\n",
       "    </tr>\n",
       "    <tr>\n",
       "      <th>139210</th>\n",
       "      <td>hi</td>\n",
       "      <td>224695</td>\n",
       "    </tr>\n",
       "    <tr>\n",
       "      <th>124130</th>\n",
       "      <td>get</td>\n",
       "      <td>207508</td>\n",
       "    </tr>\n",
       "    <tr>\n",
       "      <th>309707</th>\n",
       "      <td>thanks</td>\n",
       "      <td>206864</td>\n",
       "    </tr>\n",
       "    <tr>\n",
       "      <th>291289</th>\n",
       "      <td>sorry</td>\n",
       "      <td>192576</td>\n",
       "    </tr>\n",
       "    <tr>\n",
       "      <th>148164</th>\n",
       "      <td>im</td>\n",
       "      <td>176654</td>\n",
       "    </tr>\n",
       "    <tr>\n",
       "      <th>279238</th>\n",
       "      <td>service</td>\n",
       "      <td>157725</td>\n",
       "    </tr>\n",
       "    <tr>\n",
       "      <th>156894</th>\n",
       "      <td>issue</td>\n",
       "      <td>153384</td>\n",
       "    </tr>\n",
       "    <tr>\n",
       "      <th>182521</th>\n",
       "      <td>look</td>\n",
       "      <td>151581</td>\n",
       "    </tr>\n",
       "    <tr>\n",
       "      <th>169504</th>\n",
       "      <td>know</td>\n",
       "      <td>147453</td>\n",
       "    </tr>\n",
       "    <tr>\n",
       "      <th>177999</th>\n",
       "      <td>like</td>\n",
       "      <td>146941</td>\n",
       "    </tr>\n",
       "    <tr>\n",
       "      <th>343528</th>\n",
       "      <td>well</td>\n",
       "      <td>144380</td>\n",
       "    </tr>\n",
       "    <tr>\n",
       "      <th>176216</th>\n",
       "      <td>let</td>\n",
       "      <td>143298</td>\n",
       "    </tr>\n",
       "  </tbody>\n",
       "</table>\n",
       "</div>"
      ],
      "text/plain": [
       "           Word   Count\n",
       "239255   please  403133\n",
       "88340        dm  341657\n",
       "137481     help  282006\n",
       "139210       hi  224695\n",
       "124130      get  207508\n",
       "309707   thanks  206864\n",
       "291289    sorry  192576\n",
       "148164       im  176654\n",
       "279238  service  157725\n",
       "156894    issue  153384\n",
       "182521     look  151581\n",
       "169504     know  147453\n",
       "177999     like  146941\n",
       "343528     well  144380\n",
       "176216      let  143298"
      ]
     },
     "execution_count": 15,
     "metadata": {},
     "output_type": "execute_result"
    }
   ],
   "source": [
    "# Sort words by frequency and get the top 15\n",
    "top_15_words = word_count_df.sort_values(by='Count', ascending=False).head(15)\n",
    "top_15_words"
   ]
  },
  {
   "cell_type": "markdown",
   "id": "650e8e78-d137-4b11-bc92-22db22791465",
   "metadata": {},
   "source": [
    "The output table shows the top 15 most frequent words along with their counts. This kind of analysis is useful in Natural Language Processing (NLP) tasks to identify the most common words in a text corpus, which can help in understanding the text’s main themes or in further processing steps like feature extraction."
   ]
  },
  {
   "cell_type": "code",
   "execution_count": 17,
   "id": "4f165769-c874-40ec-bd23-46d12e2a9f46",
   "metadata": {},
   "outputs": [
    {
     "data": {
      "image/png": "[encoded data removed]",
      "text/plain": [
       "<Figure size 1000x600 with 1 Axes>"
      ]
     },
     "metadata": {},
     "output_type": "display_data"
    }
   ],
   "source": [
    "# Preparing data for visualization\n",
    "top_15_words = top_15_words.reset_index(drop=True)\n",
    "\n",
    "# Create a bar chart for the top 15 words\n",
    "plt.figure(figsize=(10, 6))\n",
    "plt.barh(top_15_words['Word'], top_15_words['Count'], color='skyblue')\n",
    "plt.xlabel('Count')\n",
    "plt.title('Top 15 Most Frequently Occurring Words')\n",
    "plt.gca().invert_yaxis()  # Invert y axis to have the highest count on top\n",
    "plt.show()"
   ]
  },
  {
   "cell_type": "markdown",
   "id": "b58c642a-d0ee-4659-bf99-401df4583331",
   "metadata": {},
   "source": [
    "The bar chart illustrates the frequency of the top 15 words in our Twitter dataset. \"Please\" is the most frequent word, with nearly 400,000 occurrences. Other common words include \"dm,\" \"help,\" \"hi,\" and \"get,\" each appearing between 200,000 and 350,000 times. The frequency gradually decreases from the most frequent word to the 15th word, which has just over 100,000 occurrences. This visualization effectively highlights the most common words, aiding in the identification of key themes or topics within the dataset."
   ]
  },
  {
   "cell_type": "markdown",
   "id": "3f56c4d6-667d-43d3-8ffe-14cd2eb8fe22",
   "metadata": {},
   "source": [
    "### TASK 2: Word Embedding Models"
   ]
  },
  {
   "cell_type": "code",
   "execution_count": 20,
   "id": "f0093d05-c19c-44f4-8654-ea6b5c68166e",
   "metadata": {},
   "outputs": [],
   "source": [
    "# Preprocess and tokenize the text\n",
    "def preprocess(text):\n",
    "    return simple_preprocess(text, deacc=True)"
   ]
  },
  {
   "cell_type": "code",
   "execution_count": 21,
   "id": "702f82a0-1fd7-4e55-bc2e-ef1b0e4cefc2",
   "metadata": {},
   "outputs": [],
   "source": [
    "tweets_df['tokens'] = tweets_df['lemmatized_text'].apply(preprocess)"
   ]
  },
  {
   "cell_type": "code",
   "execution_count": 22,
   "id": "75732bc6-f548-443d-a5c5-a99089f2f994",
   "metadata": {},
   "outputs": [
    {
     "data": {
      "text/plain": [
       "0    [understand, would, like, assist, would, need,...\n",
       "1                                            [propose]\n",
       "2    [sent, several, private, message, one, respond...\n",
       "3    [please, send, private, message, assist, click...\n",
       "4                                                   []\n",
       "Name: tokens, dtype: object"
      ]
     },
     "execution_count": 22,
     "metadata": {},
     "output_type": "execute_result"
    }
   ],
   "source": [
    "tweets_df['tokens'].head()"
   ]
  },
  {
   "cell_type": "markdown",
   "id": "887d40af-dded-4ca7-b58e-5469ab79978b",
   "metadata": {},
   "source": [
    "The output displays the first five entries of the 'tokens' column, where each entry is a list of tokens (words) derived from the original text. For instance:\n",
    "- The first entry contains tokens such as ‘understand’, ‘would’, ‘like’, and ‘assist’.\n",
    "- The second entry consists of a single token, ‘propose’.\n",
    "- The third entry includes tokens like ‘sent’, ‘several’, ‘private’, and ‘message’.\n",
    "\n",
    "This preprocessing step is essential in NLP tasks as it transforms raw text into a structured format that is easier to analyze. Tokenization breaks down the text into individual words or tokens, facilitating further analysis such as sentiment analysis, topic modeling, or machine learning tasks."
   ]
  },
  {
   "cell_type": "markdown",
   "id": "1172346e-003f-4c52-b26d-517b316d8aeb",
   "metadata": {},
   "source": [
    "#### Word2Vec Model"
   ]
  },
  {
   "cell_type": "code",
   "execution_count": 25,
   "id": "77f7ba86-f7c4-49e2-8d63-d84b34b2a46a",
   "metadata": {},
   "outputs": [],
   "source": [
    "# Train Word2Vec model\n",
    "word2vec_model = Word2Vec(sentences=tweets_df['tokens'], vector_size=100, window=5, min_count=5, workers=4)"
   ]
  },
  {
   "cell_type": "markdown",
   "id": "e9dc4b4a-01a9-4865-ac4c-eb2556e9b746",
   "metadata": {},
   "source": [
    "#### FastText Model"
   ]
  },
  {
   "cell_type": "code",
   "execution_count": 27,
   "id": "bee0b67f-4ff7-43f1-8654-31148a217bc6",
   "metadata": {},
   "outputs": [],
   "source": [
    "# Train FastText model\n",
    "fasttext_model = FastText(sentences=tweets_df['tokens'], vector_size=100, window=5, min_count=5, workers=4)"
   ]
  },
  {
   "cell_type": "markdown",
   "id": "6bb48c4f-deba-4e98-9b8d-d4a2f13a8511",
   "metadata": {},
   "source": [
    "#### GloVe Model"
   ]
  },
  {
   "cell_type": "code",
   "execution_count": 29,
   "id": "9cbba375-c3c6-47cf-b437-7177c036352b",
   "metadata": {},
   "outputs": [
    {
     "name": "stdout",
     "output_type": "stream",
     "text": [
      "['fasttext-wiki-news-subwords-300', 'conceptnet-numberbatch-17-06-300', 'word2vec-ruscorpora-300', 'word2vec-google-news-300', 'glove-wiki-gigaword-50', 'glove-wiki-gigaword-100', 'glove-wiki-gigaword-200', 'glove-wiki-gigaword-300', 'glove-twitter-25', 'glove-twitter-50', 'glove-twitter-100', 'glove-twitter-200', '__testing_word2vec-matrix-synopsis']\n"
     ]
    }
   ],
   "source": [
    "import gensim.downloader\n",
    "print(list(gensim.downloader.info()['models'].keys()))"
   ]
  },
  {
   "cell_type": "code",
   "execution_count": 30,
   "id": "bc3fc180-8e1d-474c-8d17-1ee16b58957c",
   "metadata": {},
   "outputs": [],
   "source": [
    "import gensim.downloader as api\n",
    "\n",
    "# Load pre-trained GloVe model\n",
    "# Using a smaller model for demonstration purposes\n",
    "model_glove = api.load(\"glove-twitter-200\")"
   ]
  },
  {
   "cell_type": "code",
   "execution_count": 31,
   "id": "30d6f7e2-391b-445e-a039-cae7caaa01b1",
   "metadata": {},
   "outputs": [],
   "source": [
    "# Function to plot word embeddings with input for TSNE\n",
    "def plot_embeddings(model, title):\n",
    "    if model.__class__.__name__ == \"KeyedVectors\":\n",
    "        # glove\n",
    "        words = list(model.key_to_index.keys())[:15]\n",
    "        embeddings = np.array([model[word] for word in words])  # Convert to NumPy array\n",
    "    else:\n",
    "        # fasttext / word2vec\n",
    "        words = list(model.wv.key_to_index.keys())[:15]  # Get top 100 words\n",
    "        embeddings = np.array([model.wv[word] for word in words])  # Convert to NumPy array\n",
    "    \n",
    "    tsne = TSNE(n_components=2, perplexity=10 ,random_state=13)\n",
    "    embeddings_2d = tsne.fit_transform(embeddings)\n",
    "    \n",
    "    plt.figure(figsize=(12, 8))\n",
    "    plt.scatter(embeddings_2d[:, 0], embeddings_2d[:, 1])\n",
    "    \n",
    "    for i, word in enumerate(words):\n",
    "        plt.annotate(word, xy=(embeddings_2d[i, 0], embeddings_2d[i, 1]))\n",
    "    \n",
    "    plt.title(title)\n",
    "    plt.tight_layout()\n",
    "    plt.show()"
   ]
  },
  {
   "cell_type": "code",
   "execution_count": 32,
   "id": "7bee9afb-a9ba-4509-8389-db04fb38f69b",
   "metadata": {},
   "outputs": [
    {
     "data": {
      "image/png": "[encoded data removed]",
      "text/plain": [
       "<Figure size 1200x800 with 1 Axes>"
      ]
     },
     "metadata": {},
     "output_type": "display_data"
    },
    {
     "data": {
      "image/png": "[encoded data removed]",
      "text/plain": [
       "<Figure size 1200x800 with 1 Axes>"
      ]
     },
     "metadata": {},
     "output_type": "display_data"
    },
    {
     "data": {
      "image/png": "[encoded data removed]",
      "text/plain": [
       "<Figure size 1200x800 with 1 Axes>"
      ]
     },
     "metadata": {},
     "output_type": "display_data"
    }
   ],
   "source": [
    "# Plot Word2Vec embeddings\n",
    "plot_embeddings(word2vec_model, \"Word2Vec Embeddings\")\n",
    "\n",
    "# Plot FastText embeddings\n",
    "plot_embeddings(fasttext_model, \"FastText Embeddings\")\n",
    "\n",
    "# Plot GloVe embeddings\n",
    "plot_embeddings(model_glove, \"GloVe Embeddings\")"
   ]
  },
  {
   "cell_type": "markdown",
   "id": "395f45c5-cf4a-4558-8b28-15226764eb63",
   "metadata": {},
   "source": [
    "**Word2Vec Embeddings:**\n",
    "1. **Semantic Similarity**: Words close to each other, like “please” and “thanks,” likely share similar meanings or contexts, showing the model's ability to capture semantic relationships.\n",
    "2. **Contextual Grouping**: Words such as “help,” “service,” and “issue” are grouped together, reflecting their common use in customer service contexts.\n",
    "\n",
    "**FastText Embeddings:**\n",
    "1. **Semantic Similarity**: Similar to Word2Vec, words like “please” and “thanks” are close, indicating effective capture of semantic relationships.\n",
    "2. **Contextual Grouping**: Words like “help,” “service,” and “issue” are grouped together, showing their contextual association.\n",
    "3. **Subword Information**: FastText includes subword information, handling out-of-vocabulary words and morphological variations better, useful for languages with rich morphology or dealing with misspellings and rare words.\n",
    "\n",
    "**GloVe Embeddings:**\n",
    "1. **Semantic Relationships:** GloVe captures global statistical data on word co-occurrences, providing insights into semantic relationships.\n",
    "\n",
    "2. **Contextual Understanding:** It helps in understanding how words are used in similar contexts across various tweets.\n",
    "\n",
    "3. **Common Patterns:** It identifies patterns in customer service interactions or common issues being discussed."
   ]
  },
  {
   "cell_type": "markdown",
   "id": "c73b2e15-752f-42f0-b833-b61d92e45a2d",
   "metadata": {},
   "source": [
    "### TASK 3: Comparison of Similar Words"
   ]
  },
  {
   "cell_type": "code",
   "execution_count": 35,
   "id": "97765a13-5def-4d35-8726-71625db5e385",
   "metadata": {},
   "outputs": [],
   "source": [
    "top15_words = top_15_words['Word']"
   ]
  },
  {
   "cell_type": "code",
   "execution_count": 36,
   "id": "f243197d-91fe-4c96-92e2-6465d01c70af",
   "metadata": {},
   "outputs": [
    {
     "data": {
      "text/plain": [
       "0      please\n",
       "1          dm\n",
       "2        help\n",
       "3          hi\n",
       "4         get\n",
       "5      thanks\n",
       "6       sorry\n",
       "7          im\n",
       "8     service\n",
       "9       issue\n",
       "10       look\n",
       "11       know\n",
       "12       like\n",
       "13       well\n",
       "14        let\n",
       "Name: Word, dtype: object"
      ]
     },
     "execution_count": 36,
     "metadata": {},
     "output_type": "execute_result"
    }
   ],
   "source": [
    "# Display top 15 words from Task 1\n",
    "top15_words"
   ]
  },
  {
   "cell_type": "markdown",
   "id": "78ec36d8-a27e-435c-8f67-7c9af5913760",
   "metadata": {},
   "source": [
    "These are the top 15 words that we have got from using Count Vectorizer in Task 1."
   ]
  },
  {
   "cell_type": "code",
   "execution_count": 38,
   "id": "79bc680c-31d9-4813-b0ae-d3fb1b82f836",
   "metadata": {},
   "outputs": [],
   "source": [
    "# Function to print similar words for a list of words using a given model\n",
    "def compare_similar_words(model, words, model_name):\n",
    "    print(f\"\\\n",
    "Similar words using {model_name}:\")\n",
    "    for word in words:\n",
    "        try:\n",
    "            if model.__class__.__name__ == \"KeyedVectors\":\n",
    "                # Glove\n",
    "                similar_words = model.most_similar(word, topn=5)\n",
    "            else:\n",
    "                similar_words = model.wv.most_similar(word, topn=5)\n",
    "            print(f\"\\\n",
    "Words similar to '{word}':\")\n",
    "            for w, score in similar_words:\n",
    "                print(f\"{w}: {score:.4f}\")\n",
    "        except KeyError:\n",
    "            print(f\"'{word}' not in vocabulary\")"
   ]
  },
  {
   "cell_type": "code",
   "execution_count": 39,
   "id": "80b26285-5ab4-4054-a5a8-c57e4dcacb14",
   "metadata": {
    "scrolled": true
   },
   "outputs": [
    {
     "name": "stdout",
     "output_type": "stream",
     "text": [
      "Similar words using Word2Vec:\n",
      "Words similar to 'please':\n",
      "pls: 0.7378\n",
      "kindly: 0.7134\n",
      "plz: 0.5944\n",
      "may: 0.5280\n",
      "could: 0.5275\n",
      "Words similar to 'dm':\n",
      "provide: 0.4899\n",
      "verify: 0.4830\n",
      "followdm: 0.4732\n",
      "mm: 0.4702\n",
      "send: 0.4624\n",
      "Words similar to 'help':\n",
      "assist: 0.6802\n",
      "look: 0.5371\n",
      "troubleshoot: 0.5197\n",
      "investigate: 0.5117\n",
      "assistance: 0.5098\n",
      "Words similar to 'hi':\n",
      "hello: 0.8509\n",
      "hey: 0.7827\n",
      "hiya: 0.6596\n",
      "sorry: 0.5046\n",
      "clarify: 0.4735\n",
      "Words similar to 'get':\n",
      "getting: 0.6457\n",
      "give: 0.6035\n",
      "find: 0.5796\n",
      "come: 0.5399\n",
      "got: 0.5385\n",
      "Words similar to 'thanks':\n",
      "thank: 0.8852\n",
      "thx: 0.7332\n",
      "appreciate: 0.5473\n",
      "ty: 0.4849\n",
      "thankyou: 0.4458\n",
      "Words similar to 'sorry':\n",
      "apology: 0.7338\n",
      "apologize: 0.6890\n",
      "apologise: 0.5687\n",
      "regret: 0.5423\n",
      "hi: 0.5046\n",
      "Words similar to 'im':\n",
      "youre: 0.5408\n",
      "ended: 0.5164\n",
      "theyre: 0.5107\n",
      "kept: 0.5060\n",
      "wasnt: 0.4859\n",
      "Words similar to 'service':\n",
      "svc: 0.6549\n",
      "serv: 0.6010\n",
      "reception: 0.5527\n",
      "experiencers: 0.5259\n",
      "signal: 0.4995\n",
      "Words similar to 'issue':\n",
      "problem: 0.8214\n",
      "trouble: 0.6236\n",
      "difficulty: 0.5397\n",
      "behavior: 0.5376\n",
      "matter: 0.5089\n",
      "Words similar to 'look':\n",
      "investigate: 0.7096\n",
      "review: 0.6129\n",
      "discus: 0.5824\n",
      "research: 0.5579\n",
      "assist: 0.5527\n",
      "Words similar to 'know':\n",
      "see: 0.5867\n",
      "tell: 0.5482\n",
      "understand: 0.4478\n",
      "talk: 0.4261\n",
      "knowbz: 0.4223\n",
      "Words similar to 'like':\n",
      "love: 0.7563\n",
      "happy: 0.7100\n",
      "prefer: 0.5771\n",
      "rather: 0.5718\n",
      "expect: 0.4767\n",
      "Words similar to 'well':\n",
      "ill: 0.7132\n",
      "theyll: 0.5752\n",
      "wed: 0.5006\n",
      "please: 0.4950\n",
      "shall: 0.4644\n",
      "Words similar to 'let':\n",
      "letting: 0.6699\n",
      "may: 0.4615\n",
      "well: 0.4214\n",
      "allow: 0.4197\n",
      "jl: 0.4095\n"
     ]
    }
   ],
   "source": [
    "# Compare similar words using Word2Vec\n",
    "compare_similar_words(word2vec_model, top15_words, \"Word2Vec\")"
   ]
  },
  {
   "cell_type": "markdown",
   "id": "25c07cb7-4d3a-4bf0-bbca-32db725b2c73",
   "metadata": {},
   "source": [
    "1. Top Similar Words for \"please\": “pls” (0.7282), “kindly” (0.7051), “plz” (0.5936)\n",
    "   \n",
    "Insight: The model captures both informal and formal variations of the word “please,” demonstrating its ability to understand different levels of politeness and casual language.\n",
    "\n",
    "2. Top Similar Words for \"dm\": “provide” (0.4905), “verify” (0.4901), “followdm” (0.4877)\n",
    "   \n",
    "Insight: The model links “dm” (direct message) with actions related to communication and verification, highlighting its use in contexts where information exchange is crucial.\n",
    "\n",
    "**Semantic Relationships**: The model captures the semantic relationships between words, showcasing its ability to comprehend context and usage.\n",
    "\n",
    "**Contextual Understanding**: The similarity scores highlight the model’s grasp of both formal and informal language, as well as action-oriented and conversational contexts."
   ]
  },
  {
   "cell_type": "code",
   "execution_count": 41,
   "id": "f7a73bbc-25a9-47c7-bab6-5ca0e4d7f744",
   "metadata": {
    "scrolled": true
   },
   "outputs": [
    {
     "name": "stdout",
     "output_type": "stream",
     "text": [
      "Similar words using FastText:\n",
      "Words similar to 'please':\n",
      "pleasetk: 0.9171\n",
      "pleaseee: 0.9123\n",
      "pleaseim: 0.9121\n",
      "pleasei: 0.9120\n",
      "itplease: 0.9118\n",
      "Words similar to 'dm':\n",
      "dmz: 0.9362\n",
      "dmzj: 0.9250\n",
      "dmbd: 0.9226\n",
      "dmwf: 0.9206\n",
      "dmv: 0.9199\n",
      "Words similar to 'help':\n",
      "helpjv: 0.8918\n",
      "helpw: 0.8908\n",
      "helpkf: 0.8869\n",
      "helpsg: 0.8837\n",
      "helptom: 0.8802\n",
      "Words similar to 'hi':\n",
      "hihi: 0.9160\n",
      "hey: 0.8158\n",
      "hiya: 0.8145\n",
      "hello: 0.8047\n",
      "rhi: 0.7920\n",
      "Words similar to 'get':\n",
      "getgo: 0.8044\n",
      "iget: 0.8003\n",
      "getng: 0.7848\n",
      "getnow: 0.7742\n",
      "gettng: 0.7639\n",
      "Words similar to 'thanks':\n",
      "thanksnothanks: 0.9580\n",
      "kthanks: 0.9577\n",
      "okthanks: 0.9498\n",
      "awwthanks: 0.9395\n",
      "upthanks: 0.9369\n",
      "Words similar to 'sorry':\n",
      "sorrynotsorry: 0.9894\n",
      "sorryi: 0.9863\n",
      "sorrys: 0.9834\n",
      "sorrywe: 0.9724\n",
      "sorrymi: 0.9722\n",
      "Words similar to 'im':\n",
      "iim: 0.7703\n",
      "imt: 0.7141\n",
      "imdb: 0.6804\n",
      "imy: 0.6714\n",
      "img: 0.6699\n",
      "Words similar to 'service':\n",
      "serviceif: 0.9703\n",
      "servicebt: 0.9669\n",
      "servicemy: 0.9663\n",
      "cservice: 0.9636\n",
      "servicebd: 0.9625\n",
      "Words similar to 'issue':\n",
      "isssue: 0.9823\n",
      "issueif: 0.9400\n",
      "issuepj: 0.9357\n",
      "issuesjv: 0.9349\n",
      "issuemy: 0.9320\n",
      "Words similar to 'look':\n",
      "lookjg: 0.9290\n",
      "lookw: 0.9191\n",
      "alook: 0.8987\n",
      "lookup: 0.8565\n",
      "lookes: 0.8379\n",
      "Words similar to 'know':\n",
      "iknow: 0.9753\n",
      "yknow: 0.9733\n",
      "oknow: 0.9534\n",
      "knowcn: 0.9375\n",
      "yaknow: 0.9368\n",
      "Words similar to 'like':\n",
      "alike: 0.8951\n",
      "likedislike: 0.8849\n",
      "likey: 0.8689\n",
      "likeaboss: 0.8630\n",
      "lik: 0.8383\n",
      "Words similar to 'well':\n",
      "welll: 0.9595\n",
      "wellbd: 0.9492\n",
      "welllll: 0.9188\n",
      "wellyou: 0.8794\n",
      "wellllll: 0.8739\n",
      "Words similar to 'let':\n",
      "letsgo: 0.7871\n",
      "letv: 0.7632\n",
      "letak: 0.7625\n",
      "lettin: 0.7468\n",
      "lethal: 0.7391\n"
     ]
    }
   ],
   "source": [
    "# Compare similar words using FastText\n",
    "compare_similar_words(fasttext_model, top15_words, \"FastText\")"
   ]
  },
  {
   "cell_type": "markdown",
   "id": "dfff4a04-5f20-4d85-ac4c-23239e793854",
   "metadata": {},
   "source": [
    "1. Top Similar Words for \"pleasetk\": “pleasetk” (0.9225), “pleaseee” (0.9170), “pleasei” (0.9138)\n",
    "\n",
    "Insight: The model effectively captures various misspellings and informal variations of “please,” showcasing its ability to understand and process different forms of the word. This is particularly useful for handling user-generated content with typos or informal language.\n",
    "\n",
    "2. Top Similar Words for \"dm\": “dmz” (0.9385), “dmzj” (0.9250), “dmwf” (0.9233)\n",
    "\n",
    "Insight: The model associates “dm” (direct message) with similar abbreviations and variations, reflecting its use in contexts where abbreviations are common, such as social media or texting.\n",
    "\n",
    "**Handling Variations**: FastText’s capability to capture sub-word information allows it to handle misspellings and variations effectively, making it suitable for applications involving user-generated content.\n",
    "\n",
    "**Contextual Understanding**: The similarity scores demonstrate the model’s understanding of different contexts and usages of the words, highlighting its capability in semantic analysis."
   ]
  },
  {
   "cell_type": "code",
   "execution_count": 43,
   "id": "cc2e77de-531c-43e9-aa7d-a932bbe98517",
   "metadata": {
    "scrolled": true
   },
   "outputs": [
    {
     "name": "stdout",
     "output_type": "stream",
     "text": [
      "Similar words using Glove:\n",
      "Words similar to 'please':\n",
      "pls: 0.8640\n",
      "plz: 0.7870\n",
      "help: 0.7812\n",
      "pleasee: 0.7720\n",
      "you: 0.7385\n",
      "Words similar to 'dm':\n",
      "kik: 0.7040\n",
      "email: 0.6847\n",
      "reply: 0.6816\n",
      "sms: 0.6779\n",
      "inbox: 0.6744\n",
      "Words similar to 'help':\n",
      "need: 0.7818\n",
      "please: 0.7812\n",
      "helping: 0.7601\n",
      "can: 0.7264\n",
      "pls: 0.7114\n",
      "Words similar to 'hi':\n",
      "hello: 0.7674\n",
      "hey: 0.7602\n",
      "nhi: 0.6560\n",
      "thanks: 0.6241\n",
      "hai: 0.6197\n",
      "Words similar to 'get':\n",
      "getting: 0.8841\n",
      "got: 0.8624\n",
      "need: 0.8388\n",
      "n't: 0.8387\n",
      "out: 0.8256\n",
      "Words similar to 'thanks':\n",
      "thank: 0.9154\n",
      "thx: 0.8686\n",
      "thankyou: 0.8653\n",
      "thanx: 0.7893\n",
      "cheers: 0.7727\n",
      "Words similar to 'sorry':\n",
      "okay: 0.7964\n",
      "ok: 0.7757\n",
      "btw: 0.7445\n",
      "haha: 0.7390\n",
      "hahah: 0.7331\n",
      "Words similar to 'im':\n",
      "'m: 0.8326\n",
      "am: 0.7736\n",
      "cuz: 0.7625\n",
      "i: 0.7554\n",
      "imma: 0.7507\n",
      "Words similar to 'service':\n",
      "services: 0.7990\n",
      "customer: 0.7281\n",
      "client: 0.7122\n",
      "company: 0.6743\n",
      "delivery: 0.6591\n",
      "Words similar to 'issue':\n",
      "issues: 0.7844\n",
      "magazine: 0.6544\n",
      "problem: 0.6081\n",
      "latest: 0.6033\n",
      "concern: 0.5913\n",
      "Words similar to 'look':\n",
      "looks: 0.8736\n",
      "like: 0.8468\n",
      "looking: 0.8467\n",
      "think: 0.7919\n",
      "looked: 0.7896\n",
      "Words similar to 'know':\n",
      "n't: 0.9300\n",
      "think: 0.9220\n",
      "what: 0.9124\n",
      "you: 0.8963\n",
      "that: 0.8944\n",
      "Words similar to 'like':\n",
      "that: 0.8580\n",
      "look: 0.8468\n",
      "just: 0.8436\n",
      "n't: 0.8412\n",
      "it: 0.8408\n",
      "Words similar to 'well':\n",
      "but: 0.8640\n",
      "yeah: 0.8398\n",
      "good: 0.8378\n",
      "though: 0.8346\n",
      "sure: 0.8315\n",
      "Words similar to 'let':\n",
      "lets: 0.8546\n",
      "take: 0.8340\n",
      "tell: 0.8281\n",
      "n't: 0.8242\n",
      "wanna: 0.8212\n"
     ]
    }
   ],
   "source": [
    "compare_similar_words(model_glove, top15_words, \"Glove\")"
   ]
  },
  {
   "cell_type": "markdown",
   "id": "1986c185-cd4e-4f86-8389-47908f99d3b3",
   "metadata": {},
   "source": [
    "1. Top Similar Words for “please”: “pls” (0.8640), “plz” (0.7870), “help” (0.7812)\n",
    "\n",
    "Insight: The model captures both informal variations (“pls,” “plz”) and related words (“help”), indicating its understanding of different ways to express politeness and assistance.\n",
    "\n",
    "2. Top Similar Words for “dm”: “kik” (0.7040), “email” (0.6847), “reply” (0.6816)\n",
    "\n",
    "Insight: The model associates “dm” (direct message) with other forms of digital communication, such as “kik,” “email,” and “reply,” reflecting its use in contexts where messaging and communication are key.\n",
    "\n",
    "**Semantic Relationships**: GloVe effectively captures semantic relationships between words by leveraging global co-occurrence statistics, making it suitable for tasks that require understanding broader contexts.\n",
    "\n",
    "**Contextual Understanding**: The similarity scores demonstrate the model’s ability to understand different contexts and usages of the words, highlighting its strength in semantic analysis."
   ]
  },
  {
   "cell_type": "markdown",
   "id": "6c339722-c3f5-4def-9b03-3d9e75e31cc3",
   "metadata": {},
   "source": [
    "**Final Conclusion**:\n",
    "\n",
    "The word embedding models Word2Vec, FastText, and GloVe have shown similar results to the top 15 words identified using Count Vectorizer. For analyzing Twitter data and gaining insights from text, the FastText model is often an excellent choice. Twitter data frequently includes misspellings, abbreviations, and informal language. FastText’s ability to utilize sub-word information allows it to handle these variations effectively. It also manages out-of-vocabulary words better than Word2Vec and GloVe, which is crucial given the dynamic and evolving nature of language on social media. Although slightly more complex than Word2Vec, FastText remains efficient and scalable, making it suitable for large datasets like those from Twitter."
   ]
  },
  {
   "cell_type": "markdown",
   "id": "8e2987b3-f779-43ed-ab89-ea57e28420d1",
   "metadata": {},
   "source": [
    "### TASK 4: Analysis from Three Perspectives (Context, Product, Location)"
   ]
  },
  {
   "cell_type": "markdown",
   "id": "d7fb8ac7-2015-4460-84bb-67c520df9e50",
   "metadata": {},
   "source": [
    "#### 1. Context Analysis"
   ]
  },
  {
   "cell_type": "code",
   "execution_count": 48,
   "id": "f103700d-fc59-41ce-a1bc-843c66a01456",
   "metadata": {},
   "outputs": [
    {
     "name": "stdout",
     "output_type": "stream",
     "text": [
      "Most common words in tweets:\n",
      "u          480996\n",
      "please     403133\n",
      "dm         341657\n",
      "help       282006\n",
      "hi         224695\n",
      "get        207508\n",
      "thanks     206864\n",
      "sorry      192576\n",
      "im         176654\n",
      "service    157725\n",
      "Name: count, dtype: int64\n"
     ]
    }
   ],
   "source": [
    "# Context analysis\n",
    "print(\"\\\n",
    "Most common words in tweets:\")\n",
    "all_words = ' '.join(tweets_df['lemmatized_text'].astype(str)).lower().split()\n",
    "word_freq = pd.Series(all_words).value_counts()\n",
    "print(word_freq.head(10))"
   ]
  },
  {
   "cell_type": "markdown",
   "id": "724a7a10-ba31-4a8f-a0d5-b808ba50f02d",
   "metadata": {},
   "source": [
    "The words listed above are the most frequently used in our Twitter dataset. By selecting any specific word, such as \"service,\" we can retrieve the related tweets and their information."
   ]
  },
  {
   "cell_type": "markdown",
   "id": "1d3a51e8-9014-4516-ae7c-6c5de8d17b98",
   "metadata": {},
   "source": [
    "Customer Support: The dataset mainly features customer service interactions, with common phrases including requests for direct messages (DMs) to handle issues privately.\n",
    "\n",
    "Technical Issues: Many tweets discuss technical problems, such as performance issues caused by software updates or connectivity problems.\n",
    "\n",
    "Communication Style: The use of polite and direct language (e.g., “help,” “please,” “thank you”) highlights a focus on efficiently resolving customer concerns."
   ]
  },
  {
   "cell_type": "code",
   "execution_count": 51,
   "id": "e5b94919-f542-489d-b0ce-3947f6a34674",
   "metadata": {},
   "outputs": [
    {
     "name": "stdout",
     "output_type": "stream",
     "text": [
      "\\service-related Tweets:\n",
      "                                      lemmatized_text\n",
      "6                              worst customer service\n",
      "25  yo customer service rep super nice imma start ...\n",
      "31  somebody please help meeeeee im worst luck cus...\n",
      "37  phone number email thats get equipment service...\n",
      "40     hello duke copy bill state service located nhp\n",
      "42         referring wireless residential service jay\n",
      "43  tried pay bill day service rude c several tran...\n",
      "48  fios service service go internet light router ...\n",
      "50                                service cutting acm\n",
      "54                      area located service time hsb\n"
     ]
    }
   ],
   "source": [
    "# Extract twitter-related insights\n",
    "content = tweets_df['lemmatized_text'].apply(lambda x: 'service' in x.lower())\n",
    "service_tweets = tweets_df[content]\n",
    "\n",
    "print(\"\\service-related Tweets:\")\n",
    "print(service_tweets[['lemmatized_text']][:10])"
   ]
  },
  {
   "cell_type": "markdown",
   "id": "8381d6af-8f28-4a1c-97f5-b342f115c33a",
   "metadata": {},
   "source": [
    "It looks like the Twitter dataset focuses on customer support and assistance. These common words suggest that the tweets are primarily conversational and customer service-oriented. Words like \"u\", \"im\", \"help\", \"thanks\", and \"please\" indicate direct communication between users and possibly customer service representatives. The high frequency of \"u\", \"please\" and \"dm\" might indicate explanations or directions being given."
   ]
  },
  {
   "cell_type": "markdown",
   "id": "d6deae9a-aa94-437d-b053-4d265bf082e5",
   "metadata": {},
   "source": [
    "#### 2. Product/Service Analysis"
   ]
  },
  {
   "cell_type": "code",
   "execution_count": 54,
   "id": "c2e44446-4032-4fec-a964-dfd928e3d87f",
   "metadata": {},
   "outputs": [],
   "source": [
    "similar_product = model_glove.most_similar([\"product\", \"service\"], topn=10)"
   ]
  },
  {
   "cell_type": "code",
   "execution_count": 55,
   "id": "b3e573de-3525-456d-b694-5bd007878f22",
   "metadata": {},
   "outputs": [],
   "source": [
    "keywords_product = [item[0] for item in list(similar_product)]"
   ]
  },
  {
   "cell_type": "code",
   "execution_count": 56,
   "id": "c47d7288-bba0-4112-ba42-b6c74cd030a0",
   "metadata": {},
   "outputs": [
    {
     "data": {
      "text/plain": [
       "['services',\n",
       " 'customer',\n",
       " 'company',\n",
       " 'client',\n",
       " 'products',\n",
       " 'website',\n",
       " 'software',\n",
       " 'management',\n",
       " 'business',\n",
       " 'system']"
      ]
     },
     "execution_count": 56,
     "metadata": {},
     "output_type": "execute_result"
    }
   ],
   "source": [
    "keywords_product"
   ]
  },
  {
   "cell_type": "code",
   "execution_count": 57,
   "id": "c9ee14f6-0a79-4dd7-a6da-093b4bd3b6a4",
   "metadata": {},
   "outputs": [
    {
     "name": "stdout",
     "output_type": "stream",
     "text": [
      "Checking for product/services mentions...\n",
      "Number of tweets potentially mentioning products/services: 174586\n"
     ]
    }
   ],
   "source": [
    "# Product analysis\n",
    "print(\"\\\n",
    "Checking for product/services mentions...\")\n",
    "mentions_product = tweets_df['lemmatized_text'].str.contains('|'.join(keywords_product), case=False).sum()\n",
    "print(f\"Number of tweets potentially mentioning products/services: {mentions_product}\")"
   ]
  },
  {
   "cell_type": "markdown",
   "id": "ac80afe2-30f1-4fac-b9d8-eea1d097631d",
   "metadata": {},
   "source": [
    "The code prints the number of tweets 174586 that potentially mention products or services. The keywords list includes terms like ‘products’, ‘software’, ‘management’, and ‘system’, which are directly related to products. The keywords list also includes terms like ‘services’, ‘customer’, ‘company’, and ‘client’, which are more service-oriented."
   ]
  },
  {
   "cell_type": "markdown",
   "id": "0dfab102-b7d0-47aa-a40f-d72560e88347",
   "metadata": {},
   "source": [
    "#### 3. Location Analysis"
   ]
  },
  {
   "cell_type": "code",
   "execution_count": 60,
   "id": "d2e08587-36db-4d59-a67c-3318a79259ca",
   "metadata": {},
   "outputs": [],
   "source": [
    "similar_location = model_glove.most_similar(\"location\", topn=10)"
   ]
  },
  {
   "cell_type": "code",
   "execution_count": 61,
   "id": "90396496-dffb-4ca1-8c8d-b8e5ec792bc6",
   "metadata": {},
   "outputs": [
    {
     "data": {
      "text/plain": [
       "[('client', 0.588002622127533),\n",
       " ('locations', 0.5834721922874451),\n",
       " ('job', 0.5818687677383423),\n",
       " ('area', 0.5741919875144958),\n",
       " ('near', 0.5656514763832092),\n",
       " ('details', 0.5642515420913696),\n",
       " ('venue', 0.5628735423088074),\n",
       " ('description', 0.5604998469352722),\n",
       " ('position', 0.5589128136634827),\n",
       " ('place', 0.5575241446495056)]"
      ]
     },
     "execution_count": 61,
     "metadata": {},
     "output_type": "execute_result"
    }
   ],
   "source": [
    "similar_location"
   ]
  },
  {
   "cell_type": "code",
   "execution_count": 62,
   "id": "336fe69d-b1d4-42bb-8d69-551552af6a8c",
   "metadata": {},
   "outputs": [],
   "source": [
    "keywords_location = [item[0] for item in list(similar_location)]"
   ]
  },
  {
   "cell_type": "code",
   "execution_count": 63,
   "id": "6e8732df-fd62-49a4-87be-7e8ffab7011f",
   "metadata": {},
   "outputs": [
    {
     "data": {
      "text/plain": [
       "['client',\n",
       " 'locations',\n",
       " 'job',\n",
       " 'area',\n",
       " 'near',\n",
       " 'details',\n",
       " 'venue',\n",
       " 'description',\n",
       " 'position',\n",
       " 'place']"
      ]
     },
     "execution_count": 63,
     "metadata": {},
     "output_type": "execute_result"
    }
   ],
   "source": [
    "keywords_location"
   ]
  },
  {
   "cell_type": "code",
   "execution_count": 64,
   "id": "958c407c-8e65-4568-8c59-76d58f51587d",
   "metadata": {},
   "outputs": [
    {
     "name": "stdout",
     "output_type": "stream",
     "text": [
      "Checking for location mentions...\n",
      "Number of tweets potentially mentioning locations: 74926\n"
     ]
    }
   ],
   "source": [
    "# Location analysis\n",
    "print(\"\\\n",
    "Checking for location mentions...\")\n",
    "mentions_location = tweets_df['lemmatized_text'].str.contains('|'.join(keywords_location), case=False).sum()\n",
    "print(f\"Number of tweets potentially mentioning locations: {mentions_location}\")"
   ]
  },
  {
   "cell_type": "markdown",
   "id": "ee35021f-098d-42ac-914a-cb8cd31bb5ca",
   "metadata": {},
   "source": [
    "The code prints the number of tweets that potentially mention locations 74926 times. While explicit geographic locations aren't detailed, the context suggests regional services. A list called keywords_location is created, containing each item from similar_location. This list includes words like ‘client’, ‘locations’, ‘job’, ‘area’, ‘near’, ‘details’, ‘venue’, ‘description’, ‘position’, and ‘place’."
   ]
  },
  {
   "cell_type": "markdown",
   "id": "55b6c86c-2dc1-4ddd-a91f-6fc04d28c25e",
   "metadata": {},
   "source": [
    "### Familiar Topics, Subjects, and Patterns:\n",
    "\n",
    "1. **Customer Service Interactions:**\n",
    "   - The dataset predominantly features customer service conversations, as indicated by the conversational tone and the presence of the \"sprintcare\" author_id.\n",
    "\n",
    "2. **Technical Support:**\n",
    "   - Many interactions likely involve technical support issues, service inquiries, or account-related questions, given the telecommunications context.\n",
    "\n",
    "3. **Location-Based Services or Issues:**\n",
    "   - The presence of location-related keywords suggests that many interactions pertain to specific geographic areas, possibly related to service coverage, local stores, or region-specific problems.\n",
    "\n",
    "4. **Direct Communication:**\n",
    "   - The frequent use of personal pronouns indicates direct, one-on-one communication between customers and service representatives.\n",
    "\n",
    "5. **Problem-Solving:**\n",
    "   - Words like \"help\" and \"service\" in the tweets suggest that many interactions involve problem-solving or addressing customer concerns.\n",
    "\n",
    "6. **Multi-Tweet Conversations:**\n",
    "   - The presence of 'response_tweet_id' and 'in_response_to_tweet_id' columns indicates that many interactions are part of longer conversations, rather than single tweets.\n",
    "\n",
    "This analysis provides an overview of customer service interactions in the telecommunications industry, specifically related to Sprint, with a focus on addressing customer needs across various locations."
   ]
  }
 ],
 "metadata": {
  "kernelspec": {
   "display_name": "Python 3 (ipykernel)",
   "language": "python",
   "name": "python3"
  },
  "language_info": {
   "codemirror_mode": {
    "name": "ipython",
    "version": 3
   },
   "file_extension": ".py",
   "mimetype": "text/x-python",
   "name": "python",
   "nbconvert_exporter": "python",
   "pygments_lexer": "ipython3",
   "version": "3.11.5"
  }
 },
 "nbformat": 4,
 "nbformat_minor": 5
}
