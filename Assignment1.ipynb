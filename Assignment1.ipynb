{
 "cells": [
  {
   "cell_type": "markdown",
   "id": "4c64ab26-6219-4d17-bdf1-13218519fa74",
   "metadata": {},
   "source": [
    "### Question 1: Language Model"
   ]
  },
  {
   "cell_type": "markdown",
   "id": "ae7f5905-7c2d-4e77-a468-ec399c86db80",
   "metadata": {},
   "source": [
    "This section's key subjects include the construction of unigram, bigram and ngram (trigram) models as well as perform Laplace smoothing."
   ]
  },
  {
   "cell_type": "code",
   "execution_count": 2,
   "id": "ebe61c86-ece0-40f0-8561-84db5a5fd587",
   "metadata": {},
   "outputs": [],
   "source": [
    "# Import all necessary libraries\n",
    "import warnings\n",
    "warnings.filterwarnings(\"ignore\")\n",
    "\n",
    "import string\n",
    "import nltk\n",
    "import pandas as pd\n",
    "from collections import Counter\n",
    "from nltk.util import ngrams\n",
    "from nltk.corpus import stopwords\n",
    "import matplotlib.pyplot as plt"
   ]
  },
  {
   "cell_type": "code",
   "execution_count": 3,
   "id": "45e19d4b-78b1-44ab-bfb5-26c6a93528c0",
   "metadata": {},
   "outputs": [
    {
     "name": "stderr",
     "output_type": "stream",
     "text": [
      "[nltk_data] Downloading package stopwords to\n",
      "[nltk_data]     /Users/payalchavan/nltk_data...\n",
      "[nltk_data]   Package stopwords is already up-to-date!\n",
      "[nltk_data] Downloading package punkt to\n",
      "[nltk_data]     /Users/payalchavan/nltk_data...\n",
      "[nltk_data]   Package punkt is already up-to-date!\n"
     ]
    },
    {
     "data": {
      "text/plain": [
       "True"
      ]
     },
     "execution_count": 3,
     "metadata": {},
     "output_type": "execute_result"
    }
   ],
   "source": [
    "# Download necessary NLTK data\n",
    "nltk.download('stopwords')\n",
    "nltk.download('punkt')"
   ]
  },
  {
   "cell_type": "code",
   "execution_count": 4,
   "id": "49ac18fa-3ffe-4350-a39f-390ad9fd2ecb",
   "metadata": {},
   "outputs": [],
   "source": [
    "# Load and preprocess the data\n",
    "with open('lang_modelingdata.txt', 'r') as file:\n",
    "    text = file.read()"
   ]
  },
  {
   "cell_type": "code",
   "execution_count": 5,
   "id": "a64dc66e-226f-485f-833d-9f0f0dde5dab",
   "metadata": {},
   "outputs": [],
   "source": [
    "# Tokenize the text into sentences and words\n",
    "sentences = nltk.sent_tokenize(text)"
   ]
  },
  {
   "cell_type": "code",
   "execution_count": 6,
   "id": "62243c66-91af-4bc1-9cc4-7d010c4980b7",
   "metadata": {},
   "outputs": [
    {
     "data": {
      "text/plain": [
       "\"The unanimous Declaration of the thirteen united States of America, When in the Course of human events, it becomes necessary for one people to dissolve the political bands which have connected them with another, and to assume among the powers of the earth, the separate and equal station to which the Laws of Nature and of Nature's God entitle them, a decent respect to the opinions of mankind requires that they should declare the causes which impel them to the separation.\""
      ]
     },
     "execution_count": 6,
     "metadata": {},
     "output_type": "execute_result"
    }
   ],
   "source": [
    "sentences[0]"
   ]
  },
  {
   "cell_type": "markdown",
   "id": "cf939010-761f-4bae-870b-0c73d60c0602",
   "metadata": {},
   "source": [
    "The text above contains many stop words and punctuation marks, and it is not in lowercase format. Therefore, it is necessary to clean this text before starting our language modeling."
   ]
  },
  {
   "cell_type": "markdown",
   "id": "2da2f0bb-30f3-4a2c-83ce-6650a5efde6a",
   "metadata": {},
   "source": [
    "### Text Preprocessing"
   ]
  },
  {
   "cell_type": "code",
   "execution_count": 8,
   "id": "8586ebc7-69b6-4bcb-b3fd-8ce27c0311b0",
   "metadata": {},
   "outputs": [],
   "source": [
    "# Function to remove stop words and punctuation\n",
    "# Get the list of stop words\n",
    "stop_words = set(stopwords.words('english'))\n",
    "def clean_sentence(sentence):\n",
    "    # Tokenize the sentence\n",
    "    words = nltk.word_tokenize(sentence)\n",
    "    # Remove stop words and punctuation\n",
    "    cleaned_words = [word.lower() for word in words if word.lower() not in stop_words and word not in string.punctuation]\n",
    "    return ' '.join(cleaned_words)"
   ]
  },
  {
   "cell_type": "code",
   "execution_count": 9,
   "id": "200e283b-16f5-41d3-984d-f2b5b51c52cb",
   "metadata": {},
   "outputs": [],
   "source": [
    "# Apply the function to each sentence\n",
    "cleaned_sentences = [clean_sentence(sentence) for sentence in sentences]"
   ]
  },
  {
   "cell_type": "code",
   "execution_count": 10,
   "id": "9bae8aa3-e8c5-47cc-8bb2-b33aede7c3bd",
   "metadata": {},
   "outputs": [
    {
     "data": {
      "text/plain": [
       "\"unanimous declaration thirteen united states america course human events becomes necessary one people dissolve political bands connected another assume among powers earth separate equal station laws nature nature 's god entitle decent respect opinions mankind requires declare causes impel separation\""
      ]
     },
     "execution_count": 10,
     "metadata": {},
     "output_type": "execute_result"
    }
   ],
   "source": [
    "cleaned_sentences[0]"
   ]
  },
  {
   "cell_type": "markdown",
   "id": "e2ce79f6-4ef7-4e71-8549-f57d4489b829",
   "metadata": {},
   "source": [
    "After processing, the text has been stripped of stop words and punctuation and also converted to lower case, leaving only the essential words. This helps in focusing on the core content and can be useful for various text analysis tasks."
   ]
  },
  {
   "cell_type": "code",
   "execution_count": 12,
   "id": "203de587-d564-4497-9660-e73d3b098daa",
   "metadata": {},
   "outputs": [],
   "source": [
    "# Flatten the list of words\n",
    "all_words = []\n",
    "for sentence in cleaned_sentences:\n",
    "    word_tokenized = nltk.word_tokenize(sentence)\n",
    "    for word in word_tokenized:\n",
    "        all_words.append(word)"
   ]
  },
  {
   "cell_type": "code",
   "execution_count": 13,
   "id": "f79c103c-e925-4b3d-a365-324b84045286",
   "metadata": {},
   "outputs": [
    {
     "data": {
      "text/plain": [
       "['unanimous',\n",
       " 'declaration',\n",
       " 'thirteen',\n",
       " 'united',\n",
       " 'states',\n",
       " 'america',\n",
       " 'course',\n",
       " 'human',\n",
       " 'events',\n",
       " 'becomes']"
      ]
     },
     "execution_count": 13,
     "metadata": {},
     "output_type": "execute_result"
    }
   ],
   "source": [
    "all_words[:10]"
   ]
  },
  {
   "cell_type": "markdown",
   "id": "233125d4-f83f-4605-9f31-df64b4eae8c3",
   "metadata": {},
   "source": [
    "The result is a single list, all_words, containing all the words from the tokenized sentences, effectively flattening the list of lists into one comprehensive list of words. This can be useful for tasks like building a vocabulary or performing frequency analysis."
   ]
  },
  {
   "cell_type": "markdown",
   "id": "be5de2e9-ce44-4a4b-bd3a-b82777c6d5be",
   "metadata": {},
   "source": [
    "### Basic Statistics"
   ]
  },
  {
   "cell_type": "code",
   "execution_count": 15,
   "id": "1cebe913-b6b7-4a21-8d16-bd0774c56b15",
   "metadata": {},
   "outputs": [
    {
     "name": "stdout",
     "output_type": "stream",
     "text": [
      "Number of sentences: 34\n",
      "Length of vocabulary: 468\n",
      "Number of words: 651\n"
     ]
    }
   ],
   "source": [
    "# Calculate basic statistics\n",
    "words = all_words\n",
    "num_sentences = len(sentences)    # Number of sentences\n",
    "vocabulary = set(words)           # Length of the vocabulary (unique words)\n",
    "num_words = len(words)            # Total number of words.\n",
    "\n",
    "print(f\"Number of sentences: {num_sentences}\")\n",
    "print(f\"Length of vocabulary: {len(vocabulary)}\")\n",
    "print(f\"Number of words: {num_words}\")"
   ]
  },
  {
   "cell_type": "markdown",
   "id": "47d30d7b-bc85-4457-a2e4-a2e821b6c39b",
   "metadata": {},
   "source": [
    "Number of Sentences: Our text contains 34 sentences, providing insight into its structure and length.\n",
    "\n",
    "Length of Vocabulary: With 468 unique words, the vocabulary demonstrates a relatively diverse use of language, which is advantageous for tasks such as language modeling or text analysis.\n",
    "\n",
    "Number of Words: The text has a total of 651 words, indicating its overall length and helping us to understand word density and repetition."
   ]
  },
  {
   "cell_type": "code",
   "execution_count": 17,
   "id": "bbfccfe7-5d68-4b9c-a637-1748499f0850",
   "metadata": {},
   "outputs": [],
   "source": [
    "# Generate n-grams\n",
    "unigrams = words                  # A list of individual words\n",
    "bigrams = list(ngrams(words, 2))  # A list of tuples, where each tuple contains two consecutive words\n",
    "trigrams = list(ngrams(words, 3)) # A list of tuples, where each tuple contains three consecutive words"
   ]
  },
  {
   "cell_type": "code",
   "execution_count": 18,
   "id": "9b8dc522-999c-4ee8-9c40-cef62ba3a91a",
   "metadata": {},
   "outputs": [],
   "source": [
    "# Count the occurrences of each n-gram.\n",
    "unigram_counts = Counter(unigrams)\n",
    "bigram_counts = Counter(bigrams)\n",
    "trigram_counts = Counter(trigrams)"
   ]
  },
  {
   "cell_type": "markdown",
   "id": "576c3423-ea67-4d92-bced-9dbdf58328fd",
   "metadata": {},
   "source": [
    "### Unigram Counts"
   ]
  },
  {
   "cell_type": "code",
   "execution_count": 19,
   "id": "fd27dce5-fb90-493f-86f2-a67f2bda5ca6",
   "metadata": {},
   "outputs": [
    {
     "data": {
      "text/plain": [
       "[('us', 11), ('people', 10), ('laws', 9)]"
      ]
     },
     "execution_count": 19,
     "metadata": {},
     "output_type": "execute_result"
    }
   ],
   "source": [
    "unigram_counts.most_common(3)"
   ]
  },
  {
   "cell_type": "markdown",
   "id": "be9e1f95-85ab-4598-a412-a2732716fcc3",
   "metadata": {},
   "source": [
    "The output shows the three most common unigrams (individual words) in our text, along with their frequencies. The words “us,” “people,” and “laws” are the most frequently occurring terms in our text. This suggests that the text likely discusses topics related to society, governance, or legal matters."
   ]
  },
  {
   "cell_type": "markdown",
   "id": "63438dfe-2c52-4965-b18b-7a48c0766219",
   "metadata": {},
   "source": [
    "### Bigram Counts"
   ]
  },
  {
   "cell_type": "code",
   "execution_count": 21,
   "id": "898b00ae-3fb1-4440-9ed9-a3146b6bca2b",
   "metadata": {},
   "outputs": [
    {
     "data": {
      "text/plain": [
       "[(('independent', 'states'), 3),\n",
       " (('united', 'states'), 2),\n",
       " (('states', 'america'), 2)]"
      ]
     },
     "execution_count": 21,
     "metadata": {},
     "output_type": "execute_result"
    }
   ],
   "source": [
    "bigram_counts.most_common(3)"
   ]
  },
  {
   "cell_type": "markdown",
   "id": "65f6f5a5-acac-4e3e-85d1-1e31eba40be6",
   "metadata": {},
   "source": [
    "The output shows the three most common pairs of consecutive words in our text and how often they appear. The frequent use of the word \"states\" suggests that the text talks a lot about states, probably in a political or historical context. These pairs of words help us understand the main themes of the text, focusing on states, independence, and unity."
   ]
  },
  {
   "cell_type": "markdown",
   "id": "01029990-de22-4ca7-a194-1c5f670cb83f",
   "metadata": {},
   "source": [
    "### Trigram Counts"
   ]
  },
  {
   "cell_type": "code",
   "execution_count": 23,
   "id": "acc6cbfb-3b60-44b5-ac85-92f05e5bc4da",
   "metadata": {},
   "outputs": [
    {
     "data": {
      "text/plain": [
       "[(('united', 'states', 'america'), 2),\n",
       " (('free', 'independent', 'states'), 2),\n",
       " (('unanimous', 'declaration', 'thirteen'), 1)]"
      ]
     },
     "execution_count": 23,
     "metadata": {},
     "output_type": "execute_result"
    }
   ],
   "source": [
    "trigram_counts.most_common(3)"
   ]
  },
  {
   "cell_type": "markdown",
   "id": "a9075852-5684-4469-8d86-c49a5e46015d",
   "metadata": {},
   "source": [
    "The output lists the three most frequent groups of three words in our text and how often they appear. The phrase \"united states america\" shows up twice, indicating a strong focus on the United States, probably talking about its creation or identity."
   ]
  },
  {
   "cell_type": "code",
   "execution_count": 25,
   "id": "2359ae0d-9e6f-496e-820a-4d9da44d8b43",
   "metadata": {},
   "outputs": [
    {
     "name": "stdout",
     "output_type": "stream",
     "text": [
      "Number of words in bigrams: 650\n"
     ]
    }
   ],
   "source": [
    "# Generate bigrams\n",
    "print(f\"Number of words in bigrams: {bigram_counts.total()}\")"
   ]
  },
  {
   "cell_type": "markdown",
   "id": "039dacab-454e-41e7-96b6-a8da96a742d8",
   "metadata": {},
   "source": [
    "The output indicates that there are 650 words involved in the bigrams generated from our text. Each bigram is made up of two words, so the total number of bigrams is a bit less than the total word count. This happens because the first word of each bigram overlaps with the last word of the previous one. Having 650 words in bigrams means that nearly all words in our text are part of a bigram, showing thorough coverage. Bigrams help us see how words are related to each other in context. The large number of bigrams can reveal common word pairs and phrases in our text."
   ]
  },
  {
   "cell_type": "markdown",
   "id": "ebe8b3a0-7f57-4c59-80a8-a5cd3621dfe2",
   "metadata": {},
   "source": [
    "### Bigram Probabilities"
   ]
  },
  {
   "cell_type": "code",
   "execution_count": 27,
   "id": "0cb2d8ef-25bb-4718-acf2-2c3b68e2a6d2",
   "metadata": {},
   "outputs": [],
   "source": [
    "# Calculate bigram probabilities\n",
    "bigram_freq = Counter(bigrams)\n",
    "unigram_freq = Counter(words)\n",
    "\n",
    "bigram_prob = {}\n",
    "for bigram, count in bigram_freq.items():\n",
    "    bigram_prob[bigram] = count / unigram_freq[bigram[0]]"
   ]
  },
  {
   "cell_type": "code",
   "execution_count": 28,
   "id": "3dcc3866-5543-41d6-81f7-9b63aa668d02",
   "metadata": {},
   "outputs": [],
   "source": [
    "# Convert bigram probabilities to DataFrame\n",
    "bigram_prob_df = pd.DataFrame(list(bigram_prob.items()), columns=['Bigram', 'Probability'])\n",
    "bigram_prob_df['Bigram'] = bigram_prob_df['Bigram'].apply(lambda x: ' '.join(x))\n",
    "bigram_prob_df = bigram_prob_df.sort_values('Probability', ascending=False).head(10)"
   ]
  },
  {
   "cell_type": "code",
   "execution_count": 29,
   "id": "f2d5fffa-d5f5-412b-aedc-200e905d6ae9",
   "metadata": {},
   "outputs": [
    {
     "name": "stdout",
     "output_type": "stream",
     "text": [
      "Top 10 Bigram Probabilities:\n",
      "               Bigram  Probability\n",
      "unanimous declaration          1.0\n",
      "    jury transporting          1.0\n",
      "          example fit          1.0\n",
      "    boundaries render          1.0\n",
      " enlarging boundaries          1.0\n",
      " arbitrary government          1.0\n",
      "    therein arbitrary          1.0\n",
      "province establishing          1.0\n",
      "neighbouring province          1.0\n",
      "         english laws          1.0\n"
     ]
    }
   ],
   "source": [
    "print(\"\\\n",
    "Top 10 Bigram Probabilities:\")\n",
    "print(bigram_prob_df.to_string(index=False))"
   ]
  },
  {
   "cell_type": "markdown",
   "id": "eabc95e8-bf69-4402-ab31-f4dfc94fb65d",
   "metadata": {},
   "source": [
    "The above table shows the top 10 bigrams with their respective probabilities for the standard bigram model. The bigram probabilities table shows perfect probabilities (1.0) for several bigrams. This suggests that, the bigrams listed are probably important phrases that always appear together in our text. For example, \"unanimous declaration\" and \"arbitrary government\" are phrases that show up exactly the same way every time.This is likely common in formal or structured documents."
   ]
  },
  {
   "cell_type": "markdown",
   "id": "359b920a-ed5b-414c-a921-d759a1424a1f",
   "metadata": {},
   "source": [
    "### Bigram Model: Laplace Smoothing"
   ]
  },
  {
   "cell_type": "code",
   "execution_count": 31,
   "id": "3b48074e-058e-48e5-9282-dcdb0be0d596",
   "metadata": {},
   "outputs": [],
   "source": [
    "# Calculate add-one smoothing probabilities\n",
    "vocab_size = len(vocabulary)\n",
    "bigram_prob_smoothed_df = {}\n",
    "for bigram, count in bigram_freq.items():\n",
    "    bigram_prob_smoothed_df[bigram] = (count + 1) / (unigram_freq[bigram[0]] + vocab_size)"
   ]
  },
  {
   "cell_type": "code",
   "execution_count": 32,
   "id": "983e5849-62de-405d-9a31-2eb9609b4f98",
   "metadata": {},
   "outputs": [
    {
     "name": "stdout",
     "output_type": "stream",
     "text": [
      "Top 10 Add-One Smoothing Probabilities:\n",
      "            Bigram  Probability\n",
      "independent states     0.008475\n",
      "   separation hold     0.006383\n",
      "     great britain     0.006383\n",
      "              . --     0.006383\n",
      "   without consent     0.006369\n",
      "     united states     0.006369\n",
      "         pass laws     0.006369\n",
      "       assent laws     0.006356\n",
      "  free independent     0.006356\n",
      "          among us     0.006342\n",
      "Done\n"
     ]
    }
   ],
   "source": [
    "# Convert add-one smoothing probabilities to DataFrame\n",
    "bigram_prob_smoothed_df = pd.DataFrame(list(bigram_prob_smoothed_df.items()), columns=['Bigram', 'Probability'])\n",
    "bigram_prob_smoothed_df['Bigram'] = bigram_prob_smoothed_df['Bigram'].apply(lambda x: ' '.join(x))\n",
    "bigram_prob_smoothed_df_top10 = bigram_prob_smoothed_df.sort_values('Probability', ascending=False).head(10)\n",
    "\n",
    "print(\"\\\n",
    "Top 10 Add-One Smoothing Probabilities:\")\n",
    "print(bigram_prob_smoothed_df_top10.to_string(index=False))\n",
    "\n",
    "print(\"\\\n",
    "Done\")"
   ]
  },
  {
   "cell_type": "markdown",
   "id": "b35caea6-e269-4cf8-a620-8ae4097f3f33",
   "metadata": {},
   "source": [
    "Add-One Smoothing, also called Laplace smoothing, is a method used in probability estimation to address the issue of zero probabilities for events that haven't been observed in a dataset. Add-one smoothing ensures that every potential event (like a bigram) has a non-zero probability, even if it wasn't seen in the training data. This is especially crucial in language modeling, where certain word pairs might not be present in the training set but could still appear in actual usage.\n",
    "\n",
    "\n",
    "The above table shows the top 10 bigrams with their respective probabilities for the add-one smoothing model. The most probable bigram is “independent states” with a probability of 0.008475. Other notable bigrams include “separation hold,” “great britain,” and “united states,” each with slightly lower probabilities. The add-one smoothing probabilities table shows more varied probabilities, which helps to account for unseen bigrams and provides a smoother distribution of probabilities across the vocabulary. This analysis gives us insights into the structure and common word pairs in the text, which can be useful for various natural language processing tasks."
   ]
  },
  {
   "cell_type": "markdown",
   "id": "eea8c193-a87d-4f72-add5-23bd78475f4d",
   "metadata": {},
   "source": [
    "### Question 2: Text Classification Model"
   ]
  },
  {
   "cell_type": "markdown",
   "id": "9f9bd12d-76ff-4736-8e61-2a5b8a2739fc",
   "metadata": {},
   "source": [
    "In this part, many classifiers are used to create a text classification pipeline, and their performances are compared."
   ]
  },
  {
   "cell_type": "code",
   "execution_count": 35,
   "id": "aadc6304-c31e-4fab-8215-bad1594ebacb",
   "metadata": {},
   "outputs": [],
   "source": [
    "# Import all necessary libraries\n",
    "import numpy as np\n",
    "import re\n",
    "from nltk.corpus import stopwords\n",
    "from nltk.tokenize import word_tokenize\n",
    "from nltk.sentiment import SentimentIntensityAnalyzer\n",
    "from sklearn.feature_extraction.text import CountVectorizer\n",
    "from sklearn.model_selection import train_test_split\n",
    "from sklearn.linear_model import LogisticRegression, SGDClassifier, RidgeClassifier, Perceptron\n",
    "from sklearn.naive_bayes import MultinomialNB, BernoulliNB, ComplementNB\n",
    "from sklearn.metrics import accuracy_score, precision_recall_fscore_support\n",
    "from sklearn.preprocessing import LabelEncoder\n",
    "from nltk.stem import PorterStemmer, WordNetLemmatizer\n",
    "import matplotlib.pyplot as plt\n",
    "import seaborn as sns\n",
    "from sklearn.metrics import confusion_matrix\n",
    "from collections import Counter"
   ]
  },
  {
   "cell_type": "code",
   "execution_count": 36,
   "id": "fcf0f04e-7859-4354-91b8-56294a0b583c",
   "metadata": {},
   "outputs": [
    {
     "name": "stderr",
     "output_type": "stream",
     "text": [
      "[nltk_data] Downloading package vader_lexicon to\n",
      "[nltk_data]     /Users/payalchavan/nltk_data...\n",
      "[nltk_data]   Package vader_lexicon is already up-to-date!\n",
      "[nltk_data] Downloading package wordnet to\n",
      "[nltk_data]     /Users/payalchavan/nltk_data...\n",
      "[nltk_data]   Package wordnet is already up-to-date!\n"
     ]
    },
    {
     "data": {
      "text/plain": [
       "True"
      ]
     },
     "execution_count": 36,
     "metadata": {},
     "output_type": "execute_result"
    }
   ],
   "source": [
    "nltk.download('vader_lexicon')\n",
    "nltk.download('wordnet')"
   ]
  },
  {
   "cell_type": "markdown",
   "id": "89d31bb8-9643-4489-88c7-7e2202926257",
   "metadata": {},
   "source": [
    "### Data Loading"
   ]
  },
  {
   "cell_type": "code",
   "execution_count": 37,
   "id": "531ea5ad-b090-4865-b1e7-702a73a913b1",
   "metadata": {},
   "outputs": [],
   "source": [
    "# Load the data\n",
    "df = pd.read_csv('/Users/payalchavan/Documents/Applied_NLP/archive/Tweets.csv')"
   ]
  },
  {
   "cell_type": "markdown",
   "id": "76e6d62a-c2a0-4301-a481-7cff44cc471a",
   "metadata": {},
   "source": [
    "### Text Preprocessing"
   ]
  },
  {
   "cell_type": "code",
   "execution_count": 38,
   "id": "9b6af261-997a-426e-8d30-4705537df25a",
   "metadata": {},
   "outputs": [],
   "source": [
    "# Function to clean the text\n",
    "def clean_text(text):\n",
    "    # Convert to lowercase\n",
    "    text = text.lower()\n",
    "    # Remove URLs\n",
    "    text = re.sub(r'http\\S+|www\\S+|https\\S+', '', text, flags=re.MULTILINE)\n",
    "    # Remove user @ references and '#' from tweet\n",
    "    text = re.sub(r'\\@\\w+|\\#', '', text)\n",
    "    # Remove punctuations and numbers\n",
    "    text = re.sub('[^a-zA-Z]', ' ', text)\n",
    "    # Remove stopwords\n",
    "    stop_words = set(stopwords.words('english'))\n",
    "    word_tokens = word_tokenize(text)\n",
    "    filtered_text = [word for word in word_tokens if word not in stop_words]\n",
    "    return ' '.join(filtered_text)"
   ]
  },
  {
   "cell_type": "code",
   "execution_count": 39,
   "id": "8508d99f-de82-4a63-b0c2-b8eaa2c28372",
   "metadata": {},
   "outputs": [],
   "source": [
    "# Apply text cleaning\n",
    "df['cleaned_text'] = df['text'].apply(clean_text)"
   ]
  },
  {
   "cell_type": "code",
   "execution_count": 40,
   "id": "950e52bd-754a-4632-88c2-4b3be49b1a0a",
   "metadata": {},
   "outputs": [
    {
     "name": "stdout",
     "output_type": "stream",
     "text": [
      "Examples of cleaned text:\n",
      "                                                    text  \\\n",
      "8882   @JetBlue Thank you for the service credit. And...   \n",
      "11734  @USAirways I just think if I am staying w your...   \n",
      "5100   @SouthwestAir The pilots&amp; crew on flt 3999...   \n",
      "10483  @USAirways need seat assignments for one leg o...   \n",
      "7915                        @JetBlue thanks! I'll do it.   \n",
      "8466   @JetBlue Amazingly Awesome customer service fr...   \n",
      "14539  @AmericanAir please fix your mobile and deskto...   \n",
      "14171  @AmericanAir I have been waiting at this airpo...   \n",
      "13465  @AmericanAir will you review your systems re n...   \n",
      "5120   @SouthwestAir  no such thing as a free flight....   \n",
      "\n",
      "                                            cleaned_text  \n",
      "8882              thank service credit positive thoughts  \n",
      "11734  think staying w airline amp rescheduling fligh...  \n",
      "5100   pilots amp crew flt customer service professio...  \n",
      "10483  need seat assignments one leg family return fl...  \n",
      "7915                                              thanks  \n",
      "8466   amazingly awesome customer service reservation...  \n",
      "14539  please fix mobile desktop site allow canadians...  \n",
      "14171  waiting airport since wait tomorrow get sort help  \n",
      "13465  review systems notification website telephone ...  \n",
      "5120   thing free flight gon na spending board rental...  \n"
     ]
    }
   ],
   "source": [
    "# Display a few examples of cleaned text\n",
    "print(\"\\\n",
    "Examples of cleaned text:\")\n",
    "print(df[['text', 'cleaned_text']].sample(10))"
   ]
  },
  {
   "cell_type": "markdown",
   "id": "1641e171-e448-4f88-98b1-973444db9b66",
   "metadata": {},
   "source": [
    "The data has been successfully cleaned by removing stopwords, punctuation, and other unnecessary elements. The cleaned text is now ready for further analysis."
   ]
  },
  {
   "cell_type": "code",
   "execution_count": 42,
   "id": "052a943d-a0f5-4bdb-9d08-1ef4dc54a332",
   "metadata": {},
   "outputs": [],
   "source": [
    "lemmatizer = WordNetLemmatizer()\n",
    "\n",
    "# Function to lemmatize text\n",
    "def lemmatize_text(text):\n",
    "    word_tokens = word_tokenize(text)\n",
    "    lemmatized_text = [lemmatizer.lemmatize(word) for word in word_tokens]\n",
    "    return ' '.join(lemmatized_text)"
   ]
  },
  {
   "cell_type": "code",
   "execution_count": 43,
   "id": "69b4213f-23ac-4b9b-ad05-b22b1e7c28a6",
   "metadata": {},
   "outputs": [],
   "source": [
    "# Apply lemmatization\n",
    "df['lemmatized_text'] = df['cleaned_text'].apply(lemmatize_text)"
   ]
  },
  {
   "cell_type": "code",
   "execution_count": 44,
   "id": "e31d04db-67a9-4eab-8f6f-444f706c3641",
   "metadata": {},
   "outputs": [
    {
     "data": {
      "text/plain": [
       "0                                                 said\n",
       "1               plus added commercial experience tacky\n",
       "2               today must mean need take another trip\n",
       "3    really aggressive blast obnoxious entertainmen...\n",
       "4                                 really big bad thing\n",
       "5    seriously would pay flight seat playing really...\n",
       "6        yes nearly every time fly vx ear worm go away\n",
       "7    really missed prime opportunity men without ha...\n",
       "8                                                 well\n",
       "9                      amazing arrived hour early good\n",
       "Name: lemmatized_text, dtype: object"
      ]
     },
     "execution_count": 44,
     "metadata": {},
     "output_type": "execute_result"
    }
   ],
   "source": [
    "df['lemmatized_text'].head(10)"
   ]
  },
  {
   "cell_type": "markdown",
   "id": "c3c27829-8e69-49cb-8226-65a3313b24b5",
   "metadata": {},
   "source": [
    "After applying lemmatization to the cleaned text, the words are reduced to their root forms. This process can help the model generalize better and improve its understanding of the context."
   ]
  },
  {
   "cell_type": "code",
   "execution_count": 46,
   "id": "3f0d6fa0-7227-4adb-8d71-b1396e3625f9",
   "metadata": {},
   "outputs": [],
   "source": [
    "# Initialize an empty list to store all words\n",
    "all_words = []\n",
    "for sublist in df['lemmatized_text']:\n",
    "    for item in sublist.split(\" \"):\n",
    "        all_words.append(item)\n",
    "\n",
    "# Create a Counter object to count the occurrences of each word\n",
    "word_counter = Counter(all_words)"
   ]
  },
  {
   "cell_type": "code",
   "execution_count": 47,
   "id": "7c5196e2-e11d-46e2-8616-35db5d9d68b9",
   "metadata": {},
   "outputs": [
    {
     "data": {
      "text/html": [
       "<div>\n",
       "<style scoped>\n",
       "    .dataframe tbody tr th:only-of-type {\n",
       "        vertical-align: middle;\n",
       "    }\n",
       "\n",
       "    .dataframe tbody tr th {\n",
       "        vertical-align: top;\n",
       "    }\n",
       "\n",
       "    .dataframe thead th {\n",
       "        text-align: right;\n",
       "    }\n",
       "</style>\n",
       "<table border=\"1\" class=\"dataframe\">\n",
       "  <thead>\n",
       "    <tr style=\"text-align: right;\">\n",
       "      <th></th>\n",
       "      <th>word</th>\n",
       "      <th>freq</th>\n",
       "    </tr>\n",
       "  </thead>\n",
       "  <tbody>\n",
       "    <tr>\n",
       "      <th>0</th>\n",
       "      <td>flight</td>\n",
       "      <td>4606</td>\n",
       "    </tr>\n",
       "    <tr>\n",
       "      <th>1</th>\n",
       "      <td>get</td>\n",
       "      <td>1378</td>\n",
       "    </tr>\n",
       "    <tr>\n",
       "      <th>2</th>\n",
       "      <td>hour</td>\n",
       "      <td>1170</td>\n",
       "    </tr>\n",
       "    <tr>\n",
       "      <th>3</th>\n",
       "      <td>thanks</td>\n",
       "      <td>1083</td>\n",
       "    </tr>\n",
       "    <tr>\n",
       "      <th>4</th>\n",
       "      <td>cancelled</td>\n",
       "      <td>1065</td>\n",
       "    </tr>\n",
       "    <tr>\n",
       "      <th>5</th>\n",
       "      <td>u</td>\n",
       "      <td>1053</td>\n",
       "    </tr>\n",
       "    <tr>\n",
       "      <th>6</th>\n",
       "      <td>service</td>\n",
       "      <td>999</td>\n",
       "    </tr>\n",
       "    <tr>\n",
       "      <th>7</th>\n",
       "      <td>time</td>\n",
       "      <td>969</td>\n",
       "    </tr>\n",
       "    <tr>\n",
       "      <th>8</th>\n",
       "      <td>customer</td>\n",
       "      <td>942</td>\n",
       "    </tr>\n",
       "    <tr>\n",
       "      <th>9</th>\n",
       "      <td>help</td>\n",
       "      <td>879</td>\n",
       "    </tr>\n",
       "  </tbody>\n",
       "</table>\n",
       "</div>"
      ],
      "text/plain": [
       "        word  freq\n",
       "0     flight  4606\n",
       "1        get  1378\n",
       "2       hour  1170\n",
       "3     thanks  1083\n",
       "4  cancelled  1065\n",
       "5          u  1053\n",
       "6    service   999\n",
       "7       time   969\n",
       "8   customer   942\n",
       "9       help   879"
      ]
     },
     "execution_count": 47,
     "metadata": {},
     "output_type": "execute_result"
    }
   ],
   "source": [
    "# Find out the most common words and their frequencies\n",
    "most_common_words = word_counter.most_common(10)\n",
    "most_common_words = pd.DataFrame(most_common_words)\n",
    "most_common_words.columns = ['word', 'freq']\n",
    "most_common_words"
   ]
  },
  {
   "cell_type": "markdown",
   "id": "579a7cfc-89f7-4ad8-8020-943209480719",
   "metadata": {},
   "source": [
    "The output lists the ten most common words in our text and how often they appear. The word \"flight\" is the most frequent, showing up 4,606 times, which means the text mainly talks about flights, likely involving customer service or travel topics. \n",
    "\n",
    "Words like \"get\" (1,378 times) and \"cancelled\" (1,065 times) suggest many discussions about actions and situations, probably related to booking and cancelling flights. \n",
    "\n",
    "\"Hour\" (1,170 times) and \"time\" (969 times) indicate that timing and scheduling are important topics in the text. \n",
    "\n",
    "Overall, the frequent use of words like \"flight,\" \"cancelled,\" \"service,\" and \"customer\" shows that the text is likely about customer service issues in the airline industry, such as bookings, cancellations, and support."
   ]
  },
  {
   "cell_type": "code",
   "execution_count": 49,
   "id": "db923ffe-ae9c-40f5-b7d3-45510fc9a4ea",
   "metadata": {},
   "outputs": [
    {
     "data": {
      "text/plain": [
       "<Axes: ylabel='word'>"
      ]
     },
     "execution_count": 49,
     "metadata": {},
     "output_type": "execute_result"
    },
    {
     "data": {
      "image/png": "[encoded data removed]",
      "text/plain": [
       "<Figure size 640x480 with 1 Axes>"
      ]
     },
     "metadata": {},
     "output_type": "display_data"
    }
   ],
   "source": [
    "most_common_words.sort_values(by='freq',ascending=True).plot(x='word', kind='barh')"
   ]
  },
  {
   "cell_type": "markdown",
   "id": "dcfe9d5f-65f2-4f26-9a65-7c7444c49a4a",
   "metadata": {},
   "source": [
    "The bar chart displays the ten most common words in our text along with their frequencies. This is the visual representation of the above table of most common words and their frequencies. The word “flight” is the most frequent, appearing 4,606 times. This indicates that the text is heavily focused on topics related to flights, likely involving customer service or travel discussions."
   ]
  },
  {
   "cell_type": "code",
   "execution_count": 51,
   "id": "d39bc342-2785-478d-aef0-9d79fca127b3",
   "metadata": {},
   "outputs": [],
   "source": [
    "# Initialize the Sentiment Intensity Analyzer\n",
    "sia = SentimentIntensityAnalyzer()\n",
    "\n",
    "# Initialize the CountVectorizer\n",
    "vectorizer = CountVectorizer()"
   ]
  },
  {
   "cell_type": "code",
   "execution_count": 52,
   "id": "5d8be6e4-9569-4a69-ba24-0d87e0349953",
   "metadata": {},
   "outputs": [],
   "source": [
    "# Fit and transform the text data\n",
    "X = vectorizer.fit_transform(df['lemmatized_text'])"
   ]
  },
  {
   "cell_type": "code",
   "execution_count": 53,
   "id": "33560068-024a-4b40-ae3c-b92ad9089848",
   "metadata": {},
   "outputs": [],
   "source": [
    "# Function to classify sentiment using NLTK's Sentiment Intensity Analyzer\n",
    "def classify_sentiment(text):\n",
    "    score = sia.polarity_scores(text)\n",
    "    if score['compound'] >= 0.05:\n",
    "        return 'positive'\n",
    "    elif score['compound'] <= -0.05:\n",
    "        return 'negative'\n",
    "    else:\n",
    "        return 'neutral'"
   ]
  },
  {
   "cell_type": "code",
   "execution_count": 54,
   "id": "c59e52b8-d11d-47dc-9a18-f68316d949e0",
   "metadata": {},
   "outputs": [],
   "source": [
    "# Apply the sentiment classification\n",
    "df['predicted_sentiment'] = df['lemmatized_text'].apply(classify_sentiment)"
   ]
  },
  {
   "cell_type": "markdown",
   "id": "48935f22-81e5-4832-83d3-a81dcb627154",
   "metadata": {},
   "source": [
    "The sentiment analysis using NLTK's Sentiment Intensity Analyzer has been successfully applied to the tweets, and the predicted sentiments have been compared with the original airline sentiments. "
   ]
  },
  {
   "cell_type": "code",
   "execution_count": 56,
   "id": "cc20587b-d44f-4498-afef-79e9728da704",
   "metadata": {},
   "outputs": [
    {
     "name": "stdout",
     "output_type": "stream",
     "text": [
      "                                     lemmatized_text predicted_sentiment\n",
      "0                                               said             neutral\n",
      "1             plus added commercial experience tacky             neutral\n",
      "2             today must mean need take another trip             neutral\n",
      "3  really aggressive blast obnoxious entertainmen...            negative\n",
      "4                               really big bad thing            negative\n",
      "5  seriously would pay flight seat playing really...            negative\n",
      "6      yes nearly every time fly vx ear worm go away            positive\n",
      "7  really missed prime opportunity men without ha...            positive\n"
     ]
    }
   ],
   "source": [
    "# Display the head of the dataframe with the new sentiment column\n",
    "print(df[['lemmatized_text', 'predicted_sentiment']].head(8))"
   ]
  },
  {
   "cell_type": "markdown",
   "id": "f40f4c3c-6ab9-4665-9bb9-6471f010b0a6",
   "metadata": {},
   "source": [
    "Neutral Feedback: The phrase “plus added commercial experience tacky” shows a neutral view, possibly indicating indifference or slight dislike. General statements are also neutral.\n",
    "\n",
    "Negative Feedback: The phrase “really big bad thing” shows a negative view of the experience. Negative feedback focuses on dissatisfaction with in-flight entertainment and the overall experience.\n",
    "\n",
    "Positive Feedback: The text “yes nearly every time fly vx ear worm go away” shows a positive view, likely referring to a catchy tune or pleasant experience. Positive feedback highlights enjoyable aspects like catchy tunes and missed opportunities."
   ]
  },
  {
   "cell_type": "code",
   "execution_count": 58,
   "id": "29039b65-36d8-4dd4-bca5-4cf70544b87c",
   "metadata": {},
   "outputs": [
    {
     "name": "stdout",
     "output_type": "stream",
     "text": [
      "Distribution of predicted sentiments:\n",
      "predicted_sentiment\n",
      "positive    45.252732\n",
      "negative    30.266393\n",
      "neutral     24.480874\n",
      "Name: proportion, dtype: float64\n"
     ]
    }
   ],
   "source": [
    "# Calculate and print the distribution of predicted sentiments\n",
    "sentiment_distribution = df['predicted_sentiment'].value_counts(normalize=True) * 100\n",
    "print(\"\\\n",
    "Distribution of predicted sentiments:\")\n",
    "print(sentiment_distribution)"
   ]
  },
  {
   "cell_type": "markdown",
   "id": "69440603-576b-4d12-a512-c7b5f8cbe8a6",
   "metadata": {},
   "source": [
    "1. Positive Feedback (45.25%):\n",
    "   - Almost half of the comments are positive, showing that many people had good experiences.\n",
    "\n",
    "2. Negative Feedback (30.27%):\n",
    "   - About a third of the comments are negative, indicating some dissatisfaction, especially with in-flight entertainment and service.\n",
    "\n",
    "3. Neutral Feedback (24.48%):\n",
    "   - Nearly a quarter of the comments are neutral, with general observations or mild disapproval.\n",
    "\n",
    "Summary:\n",
    "- Positive Feedback: Mostly about good experiences.\n",
    "- Negative Feedback: Focuses on complaints.\n",
    "- Neutral Feedback: General comments and slight dislikes."
   ]
  },
  {
   "cell_type": "code",
   "execution_count": 60,
   "id": "8abf689f-97cd-41d0-ab5d-de980c2b89eb",
   "metadata": {},
   "outputs": [
    {
     "name": "stdout",
     "output_type": "stream",
     "text": [
      "Percentage of matching sentiments: 50.36%\n"
     ]
    }
   ],
   "source": [
    "# Compare predicted sentiment with the original airline_sentiment\n",
    "comparison = (df['predicted_sentiment'] == df['airline_sentiment']).mean() * 100\n",
    "print(f\"\\\n",
    "Percentage of matching sentiments: {comparison:.2f}%\")"
   ]
  },
  {
   "cell_type": "markdown",
   "id": "26d9590c-6dd9-4619-b14d-f00fc1db2f95",
   "metadata": {},
   "source": [
    "The percentage of matching sentiments between the predicted and original sentiments is: 50.36%. \n",
    "\n",
    "Accuracy: The model correctly predicts the sentiment about 50.36% of the time, which is roughly half the time.\n",
    "\n",
    "Needs Improvement: Since the accuracy is just over 50%, there’s a lot of room to make the model better.\n",
    "\n",
    "Evaluation: This percentage can be used as a starting point to see how well the model is doing and to make improvements."
   ]
  },
  {
   "cell_type": "markdown",
   "id": "0e9ac355-f294-4faf-9742-687fd33c34b3",
   "metadata": {},
   "source": [
    "### Feature Extraction"
   ]
  },
  {
   "cell_type": "code",
   "execution_count": 62,
   "id": "279b0150-bce0-4dd5-b71d-8592a9e1a5a9",
   "metadata": {},
   "outputs": [],
   "source": [
    "# Prepare the features and target\n",
    "X = df['lemmatized_text']\n",
    "y = df['airline_sentiment']"
   ]
  },
  {
   "cell_type": "code",
   "execution_count": 63,
   "id": "d1288467-53cb-4b70-ac0f-e72af8218db1",
   "metadata": {},
   "outputs": [
    {
     "data": {
      "text/plain": [
       "['negative', 'neutral', 'positive']"
      ]
     },
     "execution_count": 63,
     "metadata": {},
     "output_type": "execute_result"
    }
   ],
   "source": [
    "# Encode the target labels\n",
    "le = LabelEncoder()\n",
    "y = le.fit_transform(y)\n",
    "\n",
    "list(le.classes_)"
   ]
  },
  {
   "cell_type": "code",
   "execution_count": 64,
   "id": "c6382563-9d4c-454b-9e6e-4c4bd7a12c08",
   "metadata": {},
   "outputs": [
    {
     "name": "stdout",
     "output_type": "stream",
     "text": [
      "Labels for '['negative' 'neutral' 'positive']' are '[0 1 2]' respectively.\n"
     ]
    }
   ],
   "source": [
    "print('Labels for \\'{}\\' are \\'{}\\' respectively.'.format(le.inverse_transform(np.unique(y)),np.unique(y)))"
   ]
  },
  {
   "cell_type": "markdown",
   "id": "39633b32-7f99-47b1-b835-37e579a2920c",
   "metadata": {},
   "source": [
    "### Split Dataset"
   ]
  },
  {
   "cell_type": "code",
   "execution_count": 65,
   "id": "5a472702-7368-4ff2-bf0f-21b30031c6aa",
   "metadata": {},
   "outputs": [],
   "source": [
    "# Split the data\n",
    "X_train, X_test, y_train, y_test = train_test_split(X, y, test_size=0.2, random_state=42)"
   ]
  },
  {
   "cell_type": "code",
   "execution_count": 66,
   "id": "d5829798-8723-49c9-8b6c-439bb1c3596a",
   "metadata": {},
   "outputs": [
    {
     "name": "stdout",
     "output_type": "stream",
     "text": [
      "Data prepared successfully. Shape of training data: (11712, 9069)\n",
      "Shape of test data: (2928, 9069)\n"
     ]
    }
   ],
   "source": [
    "# Vectorize the text data\n",
    "vectorizer = CountVectorizer()\n",
    "X_train_vec = vectorizer.fit_transform(X_train)\n",
    "X_test_vec = vectorizer.transform(X_test)\n",
    "\n",
    "print(\"Data prepared successfully. Shape of training data:\", X_train_vec.shape)\n",
    "print(\"Shape of test data:\", X_test_vec.shape)"
   ]
  },
  {
   "cell_type": "markdown",
   "id": "f0e230c5-0099-42f5-bee6-865b17096b1b",
   "metadata": {},
   "source": [
    "Vectorization: The CountVectorizer has transformed the text data into numerical format, which is crucial for machine learning models to handle and analyze text.\n",
    "\n",
    "Training Data: The training data has a shape of (11712, 9069), indicating there are 11,712 samples (documents) and 9,069 features (unique words) in the set.\n",
    "\n",
    "Test Data: The test data has a shape of (2928, 9069), meaning there are 2,928 samples and the same 9,069 features in the set.\n",
    "\n",
    "Feature Consistency: Both the training and test sets have the same number of features, ensuring consistency in the model’s input data."
   ]
  },
  {
   "cell_type": "markdown",
   "id": "c31b7c84-6f9f-4baf-b3b6-2e7638b34a70",
   "metadata": {},
   "source": [
    "### Model Evaluation"
   ]
  },
  {
   "cell_type": "code",
   "execution_count": 68,
   "id": "ee338db8-0291-47da-8ede-50e3a94805a7",
   "metadata": {},
   "outputs": [],
   "source": [
    "# Define a function to evaluate models\n",
    "def evaluate_model(model, X_train, y_train, X_test, y_test):\n",
    "    model.fit(X_train, y_train)\n",
    "    y_pred = model.predict(X_test)\n",
    "    accuracy = accuracy_score(y_test, y_pred)\n",
    "    precision, recall, f1, _ = precision_recall_fscore_support(y_test, y_pred, average='weighted')\n",
    "    return accuracy, precision, recall, f1"
   ]
  },
  {
   "cell_type": "code",
   "execution_count": 69,
   "id": "f36be2f6-442a-45bd-aa18-16f7b0cb8b7e",
   "metadata": {},
   "outputs": [],
   "source": [
    "# Initialize models\n",
    "models = {\n",
    "    'Logistic Regression': LogisticRegression(max_iter=1000),\n",
    "    'SGDClassifier L1': SGDClassifier(penalty='l1'),\n",
    "    'SGDClassifier L2': SGDClassifier(penalty='l2'),\n",
    "    'Ridge Classifier': RidgeClassifier(),\n",
    "    'Perceptron': Perceptron(),\n",
    "    'MultinomialNB': MultinomialNB(),\n",
    "    'BernoulliNB': BernoulliNB(),\n",
    "    'ComplementNB': ComplementNB()\n",
    "}"
   ]
  },
  {
   "cell_type": "code",
   "execution_count": 70,
   "id": "bb2a57f9-fd21-45f3-98f1-c8a314d5f11a",
   "metadata": {},
   "outputs": [],
   "source": [
    "# Evaluate each model\n",
    "results = {}\n",
    "for name, model in models.items():\n",
    "    accuracy, precision, recall, f1 = evaluate_model(model, X_train_vec, y_train, X_test_vec, y_test)\n",
    "    results[name] = {\n",
    "        'Accuracy': accuracy,\n",
    "        'Precision': precision,\n",
    "        'Recall': recall,\n",
    "        'F1 Score': f1\n",
    "    }"
   ]
  },
  {
   "cell_type": "markdown",
   "id": "dbff1c28-0baa-44c4-a6ea-0c0177a15f5f",
   "metadata": {},
   "source": [
    "### Model Comparison"
   ]
  },
  {
   "cell_type": "code",
   "execution_count": 71,
   "id": "2c2c22ea-d422-4c59-82ba-b27752cfa384",
   "metadata": {},
   "outputs": [
    {
     "name": "stdout",
     "output_type": "stream",
     "text": [
      "                     Accuracy  Precision    Recall  F1 Score\n",
      "Logistic Regression  0.797473   0.791891  0.797473  0.793925\n",
      "SGDClassifier L1     0.794399   0.790020  0.794399  0.791815\n",
      "SGDClassifier L2     0.785519   0.783542  0.785519  0.784473\n",
      "Ridge Classifier     0.768443   0.761315  0.768443  0.764083\n",
      "Perceptron           0.746926   0.745931  0.746926  0.746409\n",
      "MultinomialNB        0.785519   0.776690  0.785519  0.767136\n",
      "BernoulliNB          0.771175   0.765630  0.771175  0.750480\n",
      "ComplementNB         0.793374   0.786898  0.793374  0.786922\n"
     ]
    }
   ],
   "source": [
    "# Convert results to a DataFrame for better visualization\n",
    "results_df = pd.DataFrame(results).T\n",
    "print(results_df)"
   ]
  },
  {
   "cell_type": "markdown",
   "id": "06e3c4a4-8fe6-4eb9-b68c-5d31be1350dc",
   "metadata": {},
   "source": [
    "Based on these results, we can make the following observations:\n",
    "\n",
    "Accuracy: Logistic Regression performs the best with an accuracy of 79.75%, closely followed by SGDClassifier L1 at 79.44%.\n",
    "\n",
    "Precision: Logistic Regression has the highest precision at 79.19%, with SGDClassifier L1 coming in second at 79.00%.\n",
    "\n",
    "Recall: Logistic Regression has the highest recall at 79.75%, with SGDClassifier L1 at 79.43%.\n",
    "\n",
    "F1 Score: Logistic Regression tops with an F1 score of 79.39%, followed by SGDClassifier L1 at 79.18%.\n",
    "\n",
    "\n",
    "Observations: \n",
    "\n",
    "Overall, Logistic Regression and SGDClassifier L1 seem to be the top performers for this sentiment analysis task. They consistently rank in the top two across all metrics.\n",
    "\n",
    "The SGDClassifier (both L1 and L2 variants) and ComplementNB also show good performance, not far behind the top two.\n",
    "\n",
    "Ridge Classifier, Perceptron, and BernoulliNB, while still performing reasonably well, are slightly behind the other models in this comparison.\n",
    "\n",
    "It’s important to highlight that the performance differences among the top models are relatively minor. This indicates that any of these models could be suitable choices, depending on specific needs like training time, interpretability, or deployment constraints.\n",
    "\n",
    "In conclusion, the combination of cleaning (removing stopwords, punctuation, etc.) and lemmatization has improved the overall performance of our sentiment analysis models, with Logistic Regression showing the best results across all metrics."
   ]
  },
  {
   "cell_type": "code",
   "execution_count": 73,
   "id": "b91799ba-d2f2-4760-b8de-5dd1f79347e5",
   "metadata": {},
   "outputs": [
    {
     "data": {
      "image/png": "[encoded data removed]",
      "text/plain": [
       "<Figure size 800x600 with 1 Axes>"
      ]
     },
     "metadata": {},
     "output_type": "display_data"
    },
    {
     "data": {
      "image/png": "[encoded data removed]",
      "text/plain": [
       "<Figure size 800x600 with 1 Axes>"
      ]
     },
     "metadata": {},
     "output_type": "display_data"
    },
    {
     "data": {
      "image/png": "[encoded data removed]",
      "text/plain": [
       "<Figure size 800x600 with 1 Axes>"
      ]
     },
     "metadata": {},
     "output_type": "display_data"
    },
    {
     "data": {
      "image/png": "[encoded data removed]",
      "text/plain": [
       "<Figure size 800x600 with 1 Axes>"
      ]
     },
     "metadata": {},
     "output_type": "display_data"
    },
    {
     "data": {
      "image/png": "[encoded data removed]",
      "text/plain": [
       "<Figure size 800x600 with 1 Axes>"
      ]
     },
     "metadata": {},
     "output_type": "display_data"
    },
    {
     "data": {
      "image/png": "[encoded data removed]",
      "text/plain": [
       "<Figure size 800x600 with 1 Axes>"
      ]
     },
     "metadata": {},
     "output_type": "display_data"
    },
    {
     "data": {
      "image/png": "[encoded data removed]",
      "text/plain": [
       "<Figure size 800x600 with 1 Axes>"
      ]
     },
     "metadata": {},
     "output_type": "display_data"
    },
    {
     "data": {
      "image/png": "[encoded data removed]",
      "text/plain": [
       "<Figure size 800x600 with 1 Axes>"
      ]
     },
     "metadata": {},
     "output_type": "display_data"
    },
    {
     "name": "stdout",
     "output_type": "stream",
     "text": [
      "Confusion matrices plotted for all models.\n"
     ]
    }
   ],
   "source": [
    "# Function to plot confusion matrix\n",
    "def plot_confusion_matrix(y_true, y_pred, title):\n",
    "    cm = confusion_matrix(y_true, y_pred)\n",
    "    plt.figure(figsize=(8, 6))\n",
    "    sns.heatmap(cm, annot=True, fmt='d', cmap='Blues', cbar=False)\n",
    "    plt.xlabel('Predicted Label')\n",
    "    plt.ylabel('True Label')\n",
    "    plt.title(title)\n",
    "    plt.show()\n",
    "\n",
    "# Evaluate and plot confusion matrix for each model\n",
    "for name, model in models.items():\n",
    "    model.fit(X_train_vec, y_train)\n",
    "    y_pred = model.predict(X_test_vec)\n",
    "    plot_confusion_matrix(y_test, y_pred, title='Confusion Matrix for ' + name)\n",
    "\n",
    "print(\"Confusion matrices plotted for all models.\")"
   ]
  },
  {
   "cell_type": "markdown",
   "id": "6ec09909-b178-448f-a446-e90752b06aa4",
   "metadata": {},
   "source": [
    "Observations:\n",
    "\n",
    "All the model performs well in predicting the “neutral” sentiment (label 0).\n",
    "\n",
    "The model has moderate accuracy for \"negative\" sentiments (label 1).\n",
    "\n",
    "The model also performs reasonably well for \"positive\" sentiments (label 2).\n",
    "\n",
    "Although, there is a notable amount of confusion between negative and neutral sentiments, as well as between positive and neutral sentiments.\n",
    "\n",
    "Logistic Regression and SGDClassifier L1 exhibit the most balanced performance across all three sentiment classes, which is consistent with their higher overall accuracy and F1 scores.\n",
    "\n",
    "SGDClassifier (both L1 and L2) and MultinomialNB also demonstrate strong performance, though they show a slight tendency to misclassify neutral sentiments.\n",
    "\n",
    "Ridge Classifier, Perceptron, and BernoulliNB exhibit more misclassifications, particularly for neutral and positive sentiments.\n",
    "\n",
    "All models seem to struggle with distinguishing between neutral and negative sentiments, as indicated by the relatively high number of misclassifications between these two classes.\n",
    "\n",
    "The positive sentiment (label 2) is generally well-classified by most models, which tends to predict more accurately than the negative sentiment.\n",
    "\n",
    "These confusion matrices offer valuable insights into each model’s strengths and weaknesses. The consistent difficulty in classifying negative sentiments suggests that this class might benefit from additional feature engineering or possibly oversampling techniques to improve its representation in the training data."
   ]
  }
 ],
 "metadata": {
  "kernelspec": {
   "display_name": "Python 3 (ipykernel)",
   "language": "python",
   "name": "python3"
  },
  "language_info": {
   "codemirror_mode": {
    "name": "ipython",
    "version": 3
   },
   "file_extension": ".py",
   "mimetype": "text/x-python",
   "name": "python",
   "nbconvert_exporter": "python",
   "pygments_lexer": "ipython3",
   "version": "3.11.5"
  }
 },
 "nbformat": 4,
 "nbformat_minor": 5
}
